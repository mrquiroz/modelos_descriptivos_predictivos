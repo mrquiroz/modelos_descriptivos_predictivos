{
 "cells": [
  {
   "cell_type": "markdown",
   "metadata": {},
   "source": [
    "### Moises Quiroz Diaz"
   ]
  },
  {
   "cell_type": "markdown",
   "metadata": {},
   "source": [
    "# Preliminares"
   ]
  },
  {
   "cell_type": "markdown",
   "metadata": {},
   "source": [
    "## Desafío 1: Determinantes del ingreso"
   ]
  },
  {
   "cell_type": "markdown",
   "metadata": {},
   "source": [
    "Usted trabaja para un organismo no gubernamental que está interesado en las dinámicas\n",
    "socioeconómicas que determinan la desigualdad de ingreso y la erradicación de la pobreza extrema,\n",
    "enmarcado dentro de los objetivos del desarrollo del nuevo milenio del Programa de las Naciones\n",
    "Unidas para el Desarrollo. Le encomiendan el desarrollo de un modelo predictivo sobre la\n",
    "probabilidad que un individuo presente salarios por sobre o bajo los 50.000 dólares anuales, en base\n",
    "a una serie de atributos sociodemográficos."
   ]
  },
  {
   "cell_type": "markdown",
   "metadata": {},
   "source": [
    "# Aspectos computacionales"
   ]
  },
  {
   "cell_type": "markdown",
   "metadata": {},
   "source": [
    "Se importan las librerias con las hemos trabajado durante todos los cursos de data science, de momento las funciones a realizar son simplemente para limpiar y binarizar la data, ademas de posteriormente crear modelos de clasificacion tanto de la vision desde la econometria, como del machine-learning"
   ]
  },
  {
   "cell_type": "code",
   "execution_count": 1,
   "metadata": {},
   "outputs": [],
   "source": [
    "import pandas as pd #Leer datafreme\n",
    "import numpy as np #Vectores numericos\n",
    "import statsmodels.api as sm\n",
    "import statsmodels.formula.api as smf #Trabajo de modelos regresivos\n",
    "import matplotlib.pyplot as plt #graficos\n",
    "from scipy import stats #Metricas\n",
    "import seaborn as sns #Graficos\n",
    "from sklearn.model_selection import train_test_split\n",
    "from sklearn.linear_model import LogisticRegression\n",
    "from sklearn.preprocessing import StandardScaler\n",
    "from sklearn.metrics import confusion_matrix,classification_report,roc_curve,roc_auc_score\n",
    "import missingno as msngo\n",
    "import warnings\n",
    "warnings.filterwarnings(\"ignore\")"
   ]
  },
  {
   "cell_type": "markdown",
   "metadata": {},
   "source": [
    "#### Se trata de un problema de clasificacion, esto se observa por el tipo de vector objetivo que se nos presenta"
   ]
  },
  {
   "cell_type": "markdown",
   "metadata": {},
   "source": [
    "# Descripción"
   ]
  },
  {
   "cell_type": "markdown",
   "metadata": {},
   "source": [
    "##### Se procede a inspeccionar la data obtenida"
   ]
  },
  {
   "cell_type": "code",
   "execution_count": 2,
   "metadata": {},
   "outputs": [
    {
     "data": {
      "text/html": [
       "<div>\n",
       "<style scoped>\n",
       "    .dataframe tbody tr th:only-of-type {\n",
       "        vertical-align: middle;\n",
       "    }\n",
       "\n",
       "    .dataframe tbody tr th {\n",
       "        vertical-align: top;\n",
       "    }\n",
       "\n",
       "    .dataframe thead th {\n",
       "        text-align: right;\n",
       "    }\n",
       "</style>\n",
       "<table border=\"1\" class=\"dataframe\">\n",
       "  <thead>\n",
       "    <tr style=\"text-align: right;\">\n",
       "      <th></th>\n",
       "      <th>age</th>\n",
       "      <th>workclass</th>\n",
       "      <th>fnlwgt</th>\n",
       "      <th>education</th>\n",
       "      <th>educational-num</th>\n",
       "      <th>marital-status</th>\n",
       "      <th>occupation</th>\n",
       "      <th>relationship</th>\n",
       "      <th>race</th>\n",
       "      <th>gender</th>\n",
       "      <th>capital-gain</th>\n",
       "      <th>capital-loss</th>\n",
       "      <th>hours-per-week</th>\n",
       "      <th>native-country</th>\n",
       "      <th>income</th>\n",
       "    </tr>\n",
       "  </thead>\n",
       "  <tbody>\n",
       "    <tr>\n",
       "      <th>0</th>\n",
       "      <td>25</td>\n",
       "      <td>Private</td>\n",
       "      <td>226802</td>\n",
       "      <td>11th</td>\n",
       "      <td>7</td>\n",
       "      <td>Never-married</td>\n",
       "      <td>Machine-op-inspct</td>\n",
       "      <td>Own-child</td>\n",
       "      <td>Black</td>\n",
       "      <td>Male</td>\n",
       "      <td>0</td>\n",
       "      <td>0</td>\n",
       "      <td>40</td>\n",
       "      <td>United-States</td>\n",
       "      <td>&lt;=50K</td>\n",
       "    </tr>\n",
       "    <tr>\n",
       "      <th>1</th>\n",
       "      <td>38</td>\n",
       "      <td>Private</td>\n",
       "      <td>89814</td>\n",
       "      <td>HS-grad</td>\n",
       "      <td>9</td>\n",
       "      <td>Married-civ-spouse</td>\n",
       "      <td>Farming-fishing</td>\n",
       "      <td>Husband</td>\n",
       "      <td>White</td>\n",
       "      <td>Male</td>\n",
       "      <td>0</td>\n",
       "      <td>0</td>\n",
       "      <td>50</td>\n",
       "      <td>United-States</td>\n",
       "      <td>&lt;=50K</td>\n",
       "    </tr>\n",
       "    <tr>\n",
       "      <th>2</th>\n",
       "      <td>28</td>\n",
       "      <td>Local-gov</td>\n",
       "      <td>336951</td>\n",
       "      <td>Assoc-acdm</td>\n",
       "      <td>12</td>\n",
       "      <td>Married-civ-spouse</td>\n",
       "      <td>Protective-serv</td>\n",
       "      <td>Husband</td>\n",
       "      <td>White</td>\n",
       "      <td>Male</td>\n",
       "      <td>0</td>\n",
       "      <td>0</td>\n",
       "      <td>40</td>\n",
       "      <td>United-States</td>\n",
       "      <td>&gt;50K</td>\n",
       "    </tr>\n",
       "    <tr>\n",
       "      <th>3</th>\n",
       "      <td>44</td>\n",
       "      <td>Private</td>\n",
       "      <td>160323</td>\n",
       "      <td>Some-college</td>\n",
       "      <td>10</td>\n",
       "      <td>Married-civ-spouse</td>\n",
       "      <td>Machine-op-inspct</td>\n",
       "      <td>Husband</td>\n",
       "      <td>Black</td>\n",
       "      <td>Male</td>\n",
       "      <td>7688</td>\n",
       "      <td>0</td>\n",
       "      <td>40</td>\n",
       "      <td>United-States</td>\n",
       "      <td>&gt;50K</td>\n",
       "    </tr>\n",
       "    <tr>\n",
       "      <th>4</th>\n",
       "      <td>18</td>\n",
       "      <td>?</td>\n",
       "      <td>103497</td>\n",
       "      <td>Some-college</td>\n",
       "      <td>10</td>\n",
       "      <td>Never-married</td>\n",
       "      <td>?</td>\n",
       "      <td>Own-child</td>\n",
       "      <td>White</td>\n",
       "      <td>Female</td>\n",
       "      <td>0</td>\n",
       "      <td>0</td>\n",
       "      <td>30</td>\n",
       "      <td>United-States</td>\n",
       "      <td>&lt;=50K</td>\n",
       "    </tr>\n",
       "  </tbody>\n",
       "</table>\n",
       "</div>"
      ],
      "text/plain": [
       "   age  workclass  fnlwgt     education  educational-num      marital-status  \\\n",
       "0   25    Private  226802          11th                7       Never-married   \n",
       "1   38    Private   89814       HS-grad                9  Married-civ-spouse   \n",
       "2   28  Local-gov  336951    Assoc-acdm               12  Married-civ-spouse   \n",
       "3   44    Private  160323  Some-college               10  Married-civ-spouse   \n",
       "4   18          ?  103497  Some-college               10       Never-married   \n",
       "\n",
       "          occupation relationship   race  gender  capital-gain  capital-loss  \\\n",
       "0  Machine-op-inspct    Own-child  Black    Male             0             0   \n",
       "1    Farming-fishing      Husband  White    Male             0             0   \n",
       "2    Protective-serv      Husband  White    Male             0             0   \n",
       "3  Machine-op-inspct      Husband  Black    Male          7688             0   \n",
       "4                  ?    Own-child  White  Female             0             0   \n",
       "\n",
       "   hours-per-week native-country income  \n",
       "0              40  United-States  <=50K  \n",
       "1              50  United-States  <=50K  \n",
       "2              40  United-States   >50K  \n",
       "3              40  United-States   >50K  \n",
       "4              30  United-States  <=50K  "
      ]
     },
     "execution_count": 2,
     "metadata": {},
     "output_type": "execute_result"
    }
   ],
   "source": [
    "df = pd.read_csv('income-db.csv')\n",
    "df.head()"
   ]
  },
  {
   "cell_type": "code",
   "execution_count": 3,
   "metadata": {},
   "outputs": [
    {
     "data": {
      "text/html": [
       "<div>\n",
       "<style scoped>\n",
       "    .dataframe tbody tr th:only-of-type {\n",
       "        vertical-align: middle;\n",
       "    }\n",
       "\n",
       "    .dataframe tbody tr th {\n",
       "        vertical-align: top;\n",
       "    }\n",
       "\n",
       "    .dataframe thead th {\n",
       "        text-align: right;\n",
       "    }\n",
       "</style>\n",
       "<table border=\"1\" class=\"dataframe\">\n",
       "  <thead>\n",
       "    <tr style=\"text-align: right;\">\n",
       "      <th></th>\n",
       "      <th>age</th>\n",
       "      <th>workclass</th>\n",
       "      <th>fnlwgt</th>\n",
       "      <th>education</th>\n",
       "      <th>educational-num</th>\n",
       "      <th>marital-status</th>\n",
       "      <th>occupation</th>\n",
       "      <th>relationship</th>\n",
       "      <th>race</th>\n",
       "      <th>gender</th>\n",
       "      <th>capital-gain</th>\n",
       "      <th>capital-loss</th>\n",
       "      <th>hours-per-week</th>\n",
       "      <th>native-country</th>\n",
       "      <th>income</th>\n",
       "    </tr>\n",
       "  </thead>\n",
       "  <tbody>\n",
       "    <tr>\n",
       "      <th>0</th>\n",
       "      <td>25</td>\n",
       "      <td>Private</td>\n",
       "      <td>226802</td>\n",
       "      <td>11th</td>\n",
       "      <td>7</td>\n",
       "      <td>Never-married</td>\n",
       "      <td>Machine-op-inspct</td>\n",
       "      <td>Own-child</td>\n",
       "      <td>Black</td>\n",
       "      <td>Male</td>\n",
       "      <td>0</td>\n",
       "      <td>0</td>\n",
       "      <td>40</td>\n",
       "      <td>United-States</td>\n",
       "      <td>&lt;=50K</td>\n",
       "    </tr>\n",
       "    <tr>\n",
       "      <th>1</th>\n",
       "      <td>38</td>\n",
       "      <td>Private</td>\n",
       "      <td>89814</td>\n",
       "      <td>HS-grad</td>\n",
       "      <td>9</td>\n",
       "      <td>Married-civ-spouse</td>\n",
       "      <td>Farming-fishing</td>\n",
       "      <td>Husband</td>\n",
       "      <td>White</td>\n",
       "      <td>Male</td>\n",
       "      <td>0</td>\n",
       "      <td>0</td>\n",
       "      <td>50</td>\n",
       "      <td>United-States</td>\n",
       "      <td>&lt;=50K</td>\n",
       "    </tr>\n",
       "    <tr>\n",
       "      <th>2</th>\n",
       "      <td>28</td>\n",
       "      <td>Local-gov</td>\n",
       "      <td>336951</td>\n",
       "      <td>Assoc-acdm</td>\n",
       "      <td>12</td>\n",
       "      <td>Married-civ-spouse</td>\n",
       "      <td>Protective-serv</td>\n",
       "      <td>Husband</td>\n",
       "      <td>White</td>\n",
       "      <td>Male</td>\n",
       "      <td>0</td>\n",
       "      <td>0</td>\n",
       "      <td>40</td>\n",
       "      <td>United-States</td>\n",
       "      <td>&gt;50K</td>\n",
       "    </tr>\n",
       "    <tr>\n",
       "      <th>3</th>\n",
       "      <td>44</td>\n",
       "      <td>Private</td>\n",
       "      <td>160323</td>\n",
       "      <td>Some-college</td>\n",
       "      <td>10</td>\n",
       "      <td>Married-civ-spouse</td>\n",
       "      <td>Machine-op-inspct</td>\n",
       "      <td>Husband</td>\n",
       "      <td>Black</td>\n",
       "      <td>Male</td>\n",
       "      <td>7688</td>\n",
       "      <td>0</td>\n",
       "      <td>40</td>\n",
       "      <td>United-States</td>\n",
       "      <td>&gt;50K</td>\n",
       "    </tr>\n",
       "    <tr>\n",
       "      <th>5</th>\n",
       "      <td>34</td>\n",
       "      <td>Private</td>\n",
       "      <td>198693</td>\n",
       "      <td>10th</td>\n",
       "      <td>6</td>\n",
       "      <td>Never-married</td>\n",
       "      <td>Other-service</td>\n",
       "      <td>Not-in-family</td>\n",
       "      <td>White</td>\n",
       "      <td>Male</td>\n",
       "      <td>0</td>\n",
       "      <td>0</td>\n",
       "      <td>30</td>\n",
       "      <td>United-States</td>\n",
       "      <td>&lt;=50K</td>\n",
       "    </tr>\n",
       "  </tbody>\n",
       "</table>\n",
       "</div>"
      ],
      "text/plain": [
       "   age  workclass  fnlwgt     education  educational-num      marital-status  \\\n",
       "0   25    Private  226802          11th                7       Never-married   \n",
       "1   38    Private   89814       HS-grad                9  Married-civ-spouse   \n",
       "2   28  Local-gov  336951    Assoc-acdm               12  Married-civ-spouse   \n",
       "3   44    Private  160323  Some-college               10  Married-civ-spouse   \n",
       "5   34    Private  198693          10th                6       Never-married   \n",
       "\n",
       "          occupation   relationship   race gender  capital-gain  capital-loss  \\\n",
       "0  Machine-op-inspct      Own-child  Black   Male             0             0   \n",
       "1    Farming-fishing        Husband  White   Male             0             0   \n",
       "2    Protective-serv        Husband  White   Male             0             0   \n",
       "3  Machine-op-inspct        Husband  Black   Male          7688             0   \n",
       "5      Other-service  Not-in-family  White   Male             0             0   \n",
       "\n",
       "   hours-per-week native-country income  \n",
       "0              40  United-States  <=50K  \n",
       "1              50  United-States  <=50K  \n",
       "2              40  United-States   >50K  \n",
       "3              40  United-States   >50K  \n",
       "5              30  United-States  <=50K  "
      ]
     },
     "execution_count": 3,
     "metadata": {},
     "output_type": "execute_result"
    }
   ],
   "source": [
    "df = df.replace('?',np.nan)\n",
    "df = df.dropna()\n",
    "df.head()"
   ]
  },
  {
   "cell_type": "code",
   "execution_count": 4,
   "metadata": {},
   "outputs": [
    {
     "data": {
      "text/html": [
       "<div>\n",
       "<style scoped>\n",
       "    .dataframe tbody tr th:only-of-type {\n",
       "        vertical-align: middle;\n",
       "    }\n",
       "\n",
       "    .dataframe tbody tr th {\n",
       "        vertical-align: top;\n",
       "    }\n",
       "\n",
       "    .dataframe thead th {\n",
       "        text-align: right;\n",
       "    }\n",
       "</style>\n",
       "<table border=\"1\" class=\"dataframe\">\n",
       "  <thead>\n",
       "    <tr style=\"text-align: right;\">\n",
       "      <th></th>\n",
       "      <th>age</th>\n",
       "      <th>workclass</th>\n",
       "      <th>education</th>\n",
       "      <th>marital-status</th>\n",
       "      <th>occupation</th>\n",
       "      <th>relationship</th>\n",
       "      <th>race</th>\n",
       "      <th>gender</th>\n",
       "      <th>capital-gain</th>\n",
       "      <th>capital-loss</th>\n",
       "      <th>hours-per-week</th>\n",
       "      <th>native-country</th>\n",
       "      <th>income</th>\n",
       "    </tr>\n",
       "  </thead>\n",
       "  <tbody>\n",
       "    <tr>\n",
       "      <th>0</th>\n",
       "      <td>25</td>\n",
       "      <td>Private</td>\n",
       "      <td>11th</td>\n",
       "      <td>Never-married</td>\n",
       "      <td>Machine-op-inspct</td>\n",
       "      <td>Own-child</td>\n",
       "      <td>Black</td>\n",
       "      <td>Male</td>\n",
       "      <td>0</td>\n",
       "      <td>0</td>\n",
       "      <td>40</td>\n",
       "      <td>United-States</td>\n",
       "      <td>&lt;=50K</td>\n",
       "    </tr>\n",
       "    <tr>\n",
       "      <th>1</th>\n",
       "      <td>38</td>\n",
       "      <td>Private</td>\n",
       "      <td>HS-grad</td>\n",
       "      <td>Married-civ-spouse</td>\n",
       "      <td>Farming-fishing</td>\n",
       "      <td>Husband</td>\n",
       "      <td>White</td>\n",
       "      <td>Male</td>\n",
       "      <td>0</td>\n",
       "      <td>0</td>\n",
       "      <td>50</td>\n",
       "      <td>United-States</td>\n",
       "      <td>&lt;=50K</td>\n",
       "    </tr>\n",
       "    <tr>\n",
       "      <th>2</th>\n",
       "      <td>28</td>\n",
       "      <td>Local-gov</td>\n",
       "      <td>Assoc-acdm</td>\n",
       "      <td>Married-civ-spouse</td>\n",
       "      <td>Protective-serv</td>\n",
       "      <td>Husband</td>\n",
       "      <td>White</td>\n",
       "      <td>Male</td>\n",
       "      <td>0</td>\n",
       "      <td>0</td>\n",
       "      <td>40</td>\n",
       "      <td>United-States</td>\n",
       "      <td>&gt;50K</td>\n",
       "    </tr>\n",
       "    <tr>\n",
       "      <th>3</th>\n",
       "      <td>44</td>\n",
       "      <td>Private</td>\n",
       "      <td>Some-college</td>\n",
       "      <td>Married-civ-spouse</td>\n",
       "      <td>Machine-op-inspct</td>\n",
       "      <td>Husband</td>\n",
       "      <td>Black</td>\n",
       "      <td>Male</td>\n",
       "      <td>7688</td>\n",
       "      <td>0</td>\n",
       "      <td>40</td>\n",
       "      <td>United-States</td>\n",
       "      <td>&gt;50K</td>\n",
       "    </tr>\n",
       "    <tr>\n",
       "      <th>5</th>\n",
       "      <td>34</td>\n",
       "      <td>Private</td>\n",
       "      <td>10th</td>\n",
       "      <td>Never-married</td>\n",
       "      <td>Other-service</td>\n",
       "      <td>Not-in-family</td>\n",
       "      <td>White</td>\n",
       "      <td>Male</td>\n",
       "      <td>0</td>\n",
       "      <td>0</td>\n",
       "      <td>30</td>\n",
       "      <td>United-States</td>\n",
       "      <td>&lt;=50K</td>\n",
       "    </tr>\n",
       "  </tbody>\n",
       "</table>\n",
       "</div>"
      ],
      "text/plain": [
       "   age  workclass     education      marital-status         occupation  \\\n",
       "0   25    Private          11th       Never-married  Machine-op-inspct   \n",
       "1   38    Private       HS-grad  Married-civ-spouse    Farming-fishing   \n",
       "2   28  Local-gov    Assoc-acdm  Married-civ-spouse    Protective-serv   \n",
       "3   44    Private  Some-college  Married-civ-spouse  Machine-op-inspct   \n",
       "5   34    Private          10th       Never-married      Other-service   \n",
       "\n",
       "    relationship   race gender  capital-gain  capital-loss  hours-per-week  \\\n",
       "0      Own-child  Black   Male             0             0              40   \n",
       "1        Husband  White   Male             0             0              50   \n",
       "2        Husband  White   Male             0             0              40   \n",
       "3        Husband  Black   Male          7688             0              40   \n",
       "5  Not-in-family  White   Male             0             0              30   \n",
       "\n",
       "  native-country income  \n",
       "0  United-States  <=50K  \n",
       "1  United-States  <=50K  \n",
       "2  United-States   >50K  \n",
       "3  United-States   >50K  \n",
       "5  United-States  <=50K  "
      ]
     },
     "execution_count": 4,
     "metadata": {},
     "output_type": "execute_result"
    }
   ],
   "source": [
    "df = df.drop(columns=['fnlwgt','educational-num'],axis=1)\n",
    "df.head()"
   ]
  },
  {
   "cell_type": "markdown",
   "metadata": {},
   "source": [
    "##### Se realiza un analisis del contenido de las variables categoritas, de manera de procesarlas posteriormente"
   ]
  },
  {
   "cell_type": "code",
   "execution_count": 5,
   "metadata": {},
   "outputs": [
    {
     "name": "stdout",
     "output_type": "stream",
     "text": [
      "\n",
      "columna: income\n",
      "<=50K    0.752156\n",
      ">50K     0.247844\n",
      "Name: income, dtype: float64\n",
      "\n",
      "columna: workclass\n",
      "Private             0.736522\n",
      "Self-emp-not-inc    0.083941\n",
      "Local-gov           0.068551\n",
      "State-gov           0.043032\n",
      "Self-emp-inc        0.036398\n",
      "Federal-gov         0.031091\n",
      "Without-pay         0.000464\n",
      "Name: workclass, dtype: float64\n",
      "\n",
      "columna: education\n",
      "HS-grad         0.326898\n",
      "Some-college    0.218898\n",
      "Bachelors       0.167396\n",
      "Masters         0.055592\n",
      "Assoc-voc       0.043320\n",
      "11th            0.035801\n",
      "Assoc-acdm      0.033324\n",
      "10th            0.027044\n",
      "7th-8th         0.018199\n",
      "Prof-school     0.017359\n",
      "9th             0.014948\n",
      "12th            0.012759\n",
      "Doctorate       0.012030\n",
      "5th-6th         0.009929\n",
      "1st-4th         0.004909\n",
      "Preschool       0.001592\n",
      "Name: education, dtype: float64\n",
      "\n",
      "columna: marital-status\n",
      "Married-civ-spouse       0.465592\n",
      "Never-married            0.322807\n",
      "Divorced                 0.139246\n",
      "Separated                0.031202\n",
      "Widowed                  0.028238\n",
      "Married-spouse-absent    0.012206\n",
      "Married-AF-spouse        0.000708\n",
      "Name: marital-status, dtype: float64\n",
      "\n",
      "columna: occupation\n",
      "Craft-repair         0.133121\n",
      "Prof-specialty       0.132856\n",
      "Exec-managerial      0.132325\n",
      "Adm-clerical         0.122507\n",
      "Sales                0.119588\n",
      "Other-service        0.106320\n",
      "Machine-op-inspct    0.065676\n",
      "Transport-moving     0.051214\n",
      "Handlers-cleaners    0.045243\n",
      "Farming-fishing      0.032727\n",
      "Tech-support         0.031401\n",
      "Protective-serv      0.021582\n",
      "Priv-house-serv      0.005130\n",
      "Armed-Forces         0.000310\n",
      "Name: occupation, dtype: float64\n",
      "\n",
      "columna: relationship\n",
      "Husband           0.412764\n",
      "Not-in-family     0.258768\n",
      "Own-child         0.146522\n",
      "Unmarried         0.105878\n",
      "Wife              0.046239\n",
      "Other-relative    0.029831\n",
      "Name: relationship, dtype: float64\n",
      "\n",
      "columna: race\n",
      "White                 0.860267\n",
      "Black                 0.093494\n",
      "Asian-Pac-Islander    0.028813\n",
      "Amer-Indian-Eskimo    0.009619\n",
      "Other                 0.007806\n",
      "Name: race, dtype: float64\n",
      "\n",
      "columna: gender\n",
      "Male      0.675048\n",
      "Female    0.324952\n",
      "Name: gender, dtype: float64\n",
      "\n",
      "columna: native-country\n",
      "United-States                 0.913095\n",
      "Mexico                        0.019968\n",
      "Philippines                   0.006258\n",
      "Germany                       0.004268\n",
      "Puerto-Rico                   0.003870\n",
      "Canada                        0.003604\n",
      "El-Salvador                   0.003251\n",
      "India                         0.003251\n",
      "Cuba                          0.002941\n",
      "England                       0.002631\n",
      "China                         0.002499\n",
      "Jamaica                       0.002278\n",
      "South                         0.002233\n",
      "Italy                         0.002211\n",
      "Dominican-Republic            0.002145\n",
      "Japan                         0.001968\n",
      "Guatemala                     0.001902\n",
      "Vietnam                       0.001835\n",
      "Columbia                      0.001813\n",
      "Poland                        0.001791\n",
      "Haiti                         0.001526\n",
      "Portugal                      0.001371\n",
      "Iran                          0.001238\n",
      "Taiwan                        0.001216\n",
      "Greece                        0.001084\n",
      "Nicaragua                     0.001061\n",
      "Peru                          0.000995\n",
      "Ecuador                       0.000951\n",
      "France                        0.000796\n",
      "Ireland                       0.000796\n",
      "Thailand                      0.000641\n",
      "Hong                          0.000619\n",
      "Trinadad&Tobago               0.000575\n",
      "Cambodia                      0.000575\n",
      "Yugoslavia                    0.000509\n",
      "Outlying-US(Guam-USVI-etc)    0.000486\n",
      "Laos                          0.000464\n",
      "Scotland                      0.000442\n",
      "Honduras                      0.000420\n",
      "Hungary                       0.000398\n",
      "Holand-Netherlands            0.000022\n",
      "Name: native-country, dtype: float64\n"
     ]
    }
   ],
   "source": [
    "for i,j in df[['income','workclass','education','marital-status','occupation','relationship','race','gender','native-country']].iteritems():\n",
    "    print('\\ncolumna:',i+'\\n'+str(j.value_counts('%')))"
   ]
  },
  {
   "cell_type": "markdown",
   "metadata": {},
   "source": [
    "##### Se procede a renombrar las columnas"
   ]
  },
  {
   "cell_type": "code",
   "execution_count": 6,
   "metadata": {},
   "outputs": [],
   "source": [
    "df = df.rename({'occupation':'collars','workclass':'workclass_recod','education':'educ_recod','marital-status':'civstatus','native-country':'region'},axis='columns')"
   ]
  },
  {
   "cell_type": "code",
   "execution_count": 7,
   "metadata": {},
   "outputs": [
    {
     "data": {
      "text/plain": [
       "Index(['age', 'workclass_recod', 'educ_recod', 'civstatus', 'collars',\n",
       "       'relationship', 'race', 'gender', 'capital-gain', 'capital-loss',\n",
       "       'hours-per-week', 'region', 'income'],\n",
       "      dtype='object')"
      ]
     },
     "execution_count": 7,
     "metadata": {},
     "output_type": "execute_result"
    }
   ],
   "source": [
    "df.columns"
   ]
  },
  {
   "cell_type": "markdown",
   "metadata": {},
   "source": [
    "###### Se procede reagrupar los datos"
   ]
  },
  {
   "cell_type": "code",
   "execution_count": 8,
   "metadata": {},
   "outputs": [
    {
     "data": {
      "text/plain": [
       "white-collar    0.538676\n",
       "blue-collar     0.354695\n",
       "other           0.106630\n",
       "Name: collars, dtype: float64"
      ]
     },
     "execution_count": 8,
     "metadata": {},
     "output_type": "execute_result"
    }
   ],
   "source": [
    "df['collars'] = df['collars'].replace(['Prof-specialty','Exec-managerial','Adm-clerical','Sales','Tech-support'],'white-collar')\n",
    "df['collars'] = df['collars'].replace(['Craft-repair', 'Machine-op-inspct', 'Transport-moving','Handlers-cleaners', 'Farming-fishing', 'Protective-serv', 'Priv-house-serv'],'blue-collar')\n",
    "df['collars'] = df['collars'].replace(['Other-service', 'Armed-Forces'],'other')\n",
    "df['collars'].value_counts('%')"
   ]
  },
  {
   "cell_type": "code",
   "execution_count": 9,
   "metadata": {},
   "outputs": [
    {
     "data": {
      "text/plain": [
       "Private            0.736522\n",
       "self-employed      0.120340\n",
       "state-level-gov    0.111583\n",
       "Federal-gov        0.031091\n",
       "unemployed         0.000464\n",
       "Name: workclass_recod, dtype: float64"
      ]
     },
     "execution_count": 9,
     "metadata": {},
     "output_type": "execute_result"
    }
   ],
   "source": [
    "df['workclass_recod'] = df['workclass_recod'].replace(['federal-gov'],'Federal-gov')\n",
    "df['workclass_recod'] = df['workclass_recod'].replace(['State-gov', 'Local-gov'],'state-level-gov')\n",
    "df['workclass_recod'] = df['workclass_recod'].replace(['Self-emp-inc', 'Self-emp-not-inc'],'self-employed')\n",
    "df['workclass_recod'] = df['workclass_recod'].replace(['Never-worked', 'Without-pay'],'unemployed')\n",
    "df.workclass_recod.value_counts('%')"
   ]
  },
  {
   "cell_type": "code",
   "execution_count": 10,
   "metadata": {},
   "outputs": [
    {
     "data": {
      "text/plain": [
       "high-school          0.435651\n",
       "college              0.295542\n",
       "university           0.252377\n",
       "elementary-school    0.014838\n",
       "preschool            0.001592\n",
       "Name: educ_recod, dtype: float64"
      ]
     },
     "execution_count": 10,
     "metadata": {},
     "output_type": "execute_result"
    }
   ],
   "source": [
    "df['educ_recod'] = df['educ_recod'].replace(['Preschool'],'preschool')\n",
    "df['educ_recod'] = df['educ_recod'].replace(['1st-4th', '5th-6th'],'elementary-school')\n",
    "df['educ_recod'] = df['educ_recod'].replace(['7th-8th', '9th', '10th','11th', '12th', 'HS-grad'],'high-school')\n",
    "df['educ_recod'] = df['educ_recod'].replace([ 'Assoc-voc', 'Assoc-acdm', 'Some-college'],'college')\n",
    "df['educ_recod'] = df['educ_recod'].replace(['Bachelors', 'Masters', 'Prof-school', 'Doctorate'],'university')\n",
    "df.educ_recod.value_counts('%')"
   ]
  },
  {
   "cell_type": "code",
   "execution_count": 11,
   "metadata": {},
   "outputs": [
    {
     "data": {
      "text/plain": [
       "married          0.478506\n",
       "Never-married    0.322807\n",
       "divorced         0.139246\n",
       "separated        0.031202\n",
       "widowed          0.028238\n",
       "Name: civstatus, dtype: float64"
      ]
     },
     "execution_count": 11,
     "metadata": {},
     "output_type": "execute_result"
    }
   ],
   "source": [
    "df['civstatus'] = df['civstatus'].replace(['Married-civ-spouse', 'Married-spouse-absent', 'Married-AF-spouse'],'married')\n",
    "df['civstatus'] = df['civstatus'].replace(['Divorced'],'divorced')\n",
    "df['civstatus'] = df['civstatus'].replace(['Separated'],'separated')\n",
    "df['civstatus'] = df['civstatus'].replace(['Widowed'],'widowed')\n",
    "df.civstatus.value_counts('%')"
   ]
  },
  {
   "cell_type": "code",
   "execution_count": 12,
   "metadata": {},
   "outputs": [
    {
     "data": {
      "text/plain": [
       "America    0.960882\n",
       "Asia       0.022799\n",
       "Europa     0.016319\n",
       "Name: region, dtype: float64"
      ]
     },
     "execution_count": 12,
     "metadata": {},
     "output_type": "execute_result"
    }
   ],
   "source": [
    "df['region'] = df['region'].replace(['Holand-Netherlands','Hungary','Scotland','Germany','England','Italy','Poland','Portugal','Greece','Ireland','France','Yugoslavia'],'Europa')\n",
    "df['region'] = df['region'].replace(['Honduras','Outlying-US(Guam-USVI-etc)','United-States','Mexico','Puerto-Rico','Canada','El-Salvador','Cuba','Jamaica','Dominican-Republic','Guatemala','Columbia','Haiti','Nicaragua','Peru','Ecuador','Trinadad&Tobago'],'America')\n",
    "df['region'] = df['region'].replace(['Laos','Philippines','India','China','South','Japan','Vietnam','Iran','Taiwan','Thailand','Hong','Cambodia'],'Asia')\n",
    "\n",
    "df.region.value_counts('%')\n",
    "# No se encontraron paises de otros continentes\n"
   ]
  },
  {
   "cell_type": "markdown",
   "metadata": {},
   "source": [
    "#### Se binarizar nuestro vector objetivo"
   ]
  },
  {
   "cell_type": "code",
   "execution_count": 13,
   "metadata": {},
   "outputs": [],
   "source": [
    "df['income'] = df['income'].replace('<=50K', 0) \n",
    "df['income'] = df['income'].replace('>50K', 1)"
   ]
  },
  {
   "cell_type": "code",
   "execution_count": 14,
   "metadata": {},
   "outputs": [
    {
     "data": {
      "text/plain": [
       "0    0.752156\n",
       "1    0.247844\n",
       "Name: income, dtype: float64"
      ]
     },
     "execution_count": 14,
     "metadata": {},
     "output_type": "execute_result"
    }
   ],
   "source": [
    "df.income.value_counts('%')"
   ]
  },
  {
   "cell_type": "markdown",
   "metadata": {},
   "source": [
    "##### Las metricas a utilizar para verificar la calidad del modelo, son las que se entreguen post ajuste del modelo, las obtenidas mediante el summary, ejemplo el R-square"
   ]
  },
  {
   "cell_type": "markdown",
   "metadata": {},
   "source": [
    "###### Se procede a estudiar visualmente el vector objetivo, notando que la menor cantidad de personas son las con ingreso superior a los 50K"
   ]
  },
  {
   "cell_type": "code",
   "execution_count": 15,
   "metadata": {},
   "outputs": [
    {
     "data": {
      "text/plain": [
       "<matplotlib.axes._subplots.AxesSubplot at 0x1c239c7fd0>"
      ]
     },
     "execution_count": 15,
     "metadata": {},
     "output_type": "execute_result"
    },
    {
     "data": {
      "image/png": "[encoded data removed]",
      "text/plain": [
       "<Figure size 432x288 with 1 Axes>"
      ]
     },
     "metadata": {
      "needs_background": "light"
     },
     "output_type": "display_data"
    }
   ],
   "source": [
    "sns.countplot('income',data=df)"
   ]
  },
  {
   "cell_type": "markdown",
   "metadata": {},
   "source": [
    "##### Se procede a evaluar las demas variables visualmente, 1ro enfocandose en el vector objetivos"
   ]
  },
  {
   "cell_type": "code",
   "execution_count": 16,
   "metadata": {},
   "outputs": [],
   "source": [
    "categoricas = ['workclass_recod','educ_recod','civstatus','collars','relationship','race','gender','region']"
   ]
  },
  {
   "cell_type": "code",
   "execution_count": 17,
   "metadata": {},
   "outputs": [
    {
     "name": "stdout",
     "output_type": "stream",
     "text": [
      "income vs workclass_recod\n"
     ]
    },
    {
     "data": {
      "image/png": "[encoded data removed]",
      "text/plain": [
       "<Figure size 432x288 with 1 Axes>"
      ]
     },
     "metadata": {
      "needs_background": "light"
     },
     "output_type": "display_data"
    },
    {
     "name": "stdout",
     "output_type": "stream",
     "text": [
      "income vs educ_recod\n"
     ]
    },
    {
     "data": {
      "image/png": "[encoded data removed]",
      "text/plain": [
       "<Figure size 432x288 with 1 Axes>"
      ]
     },
     "metadata": {
      "needs_background": "light"
     },
     "output_type": "display_data"
    },
    {
     "name": "stdout",
     "output_type": "stream",
     "text": [
      "income vs civstatus\n"
     ]
    },
    {
     "data": {
      "image/png": "[encoded data removed]",
      "text/plain": [
       "<Figure size 432x288 with 1 Axes>"
      ]
     },
     "metadata": {
      "needs_background": "light"
     },
     "output_type": "display_data"
    },
    {
     "name": "stdout",
     "output_type": "stream",
     "text": [
      "income vs collars\n"
     ]
    },
    {
     "data": {
      "image/png": "[encoded data removed]",
      "text/plain": [
       "<Figure size 432x288 with 1 Axes>"
      ]
     },
     "metadata": {
      "needs_background": "light"
     },
     "output_type": "display_data"
    },
    {
     "name": "stdout",
     "output_type": "stream",
     "text": [
      "income vs relationship\n"
     ]
    },
    {
     "data": {
      "image/png": "[encoded data removed]",
      "text/plain": [
       "<Figure size 432x288 with 1 Axes>"
      ]
     },
     "metadata": {
      "needs_background": "light"
     },
     "output_type": "display_data"
    },
    {
     "name": "stdout",
     "output_type": "stream",
     "text": [
      "income vs race\n"
     ]
    },
    {
     "data": {
      "image/png": "[encoded data removed]",
      "text/plain": [
       "<Figure size 432x288 with 1 Axes>"
      ]
     },
     "metadata": {
      "needs_background": "light"
     },
     "output_type": "display_data"
    },
    {
     "name": "stdout",
     "output_type": "stream",
     "text": [
      "income vs gender\n"
     ]
    },
    {
     "data": {
      "image/png": "[encoded data removed]",
      "text/plain": [
       "<Figure size 432x288 with 1 Axes>"
      ]
     },
     "metadata": {
      "needs_background": "light"
     },
     "output_type": "display_data"
    },
    {
     "name": "stdout",
     "output_type": "stream",
     "text": [
      "income vs region\n"
     ]
    },
    {
     "data": {
      "image/png": "[encoded data removed]",
      "text/plain": [
       "<Figure size 432x288 with 1 Axes>"
      ]
     },
     "metadata": {
      "needs_background": "light"
     },
     "output_type": "display_data"
    }
   ],
   "source": [
    "for i in categoricas:\n",
    "    print('income vs',i)\n",
    "    sns.countplot(x='income',hue=i,data=df)\n",
    "    plt.show()  "
   ]
  },
  {
   "cell_type": "markdown",
   "metadata": {},
   "source": [
    "##### Al comienzo se eliminaron los datos perdidos, por lo que se esperaba no existieran, de igual forma se procede a inspeccionar"
   ]
  },
  {
   "cell_type": "code",
   "execution_count": 18,
   "metadata": {},
   "outputs": [
    {
     "data": {
      "text/plain": [
       "<matplotlib.axes._subplots.AxesSubplot at 0x1c27cdb390>"
      ]
     },
     "execution_count": 18,
     "metadata": {},
     "output_type": "execute_result"
    },
    {
     "data": {
      "image/png": "[encoded data removed]",
      "text/plain": [
       "<Figure size 1800x720 with 2 Axes>"
      ]
     },
     "metadata": {
      "needs_background": "light"
     },
     "output_type": "display_data"
    }
   ],
   "source": [
    "msngo.matrix(df)"
   ]
  },
  {
   "cell_type": "code",
   "execution_count": 19,
   "metadata": {},
   "outputs": [
    {
     "data": {
      "text/html": [
       "<div>\n",
       "<style scoped>\n",
       "    .dataframe tbody tr th:only-of-type {\n",
       "        vertical-align: middle;\n",
       "    }\n",
       "\n",
       "    .dataframe tbody tr th {\n",
       "        vertical-align: top;\n",
       "    }\n",
       "\n",
       "    .dataframe thead th {\n",
       "        text-align: right;\n",
       "    }\n",
       "</style>\n",
       "<table border=\"1\" class=\"dataframe\">\n",
       "  <thead>\n",
       "    <tr style=\"text-align: right;\">\n",
       "      <th></th>\n",
       "      <th>age</th>\n",
       "      <th>workclass_recod</th>\n",
       "      <th>educ_recod</th>\n",
       "      <th>civstatus</th>\n",
       "      <th>collars</th>\n",
       "      <th>relationship</th>\n",
       "      <th>race</th>\n",
       "      <th>gender</th>\n",
       "      <th>capital-gain</th>\n",
       "      <th>capital-loss</th>\n",
       "      <th>hours-per-week</th>\n",
       "      <th>region</th>\n",
       "      <th>income</th>\n",
       "    </tr>\n",
       "  </thead>\n",
       "  <tbody>\n",
       "    <tr>\n",
       "      <th>0</th>\n",
       "      <td>25</td>\n",
       "      <td>Private</td>\n",
       "      <td>high-school</td>\n",
       "      <td>Never-married</td>\n",
       "      <td>blue-collar</td>\n",
       "      <td>Own-child</td>\n",
       "      <td>Black</td>\n",
       "      <td>Male</td>\n",
       "      <td>0</td>\n",
       "      <td>0</td>\n",
       "      <td>40</td>\n",
       "      <td>America</td>\n",
       "      <td>0</td>\n",
       "    </tr>\n",
       "    <tr>\n",
       "      <th>1</th>\n",
       "      <td>38</td>\n",
       "      <td>Private</td>\n",
       "      <td>high-school</td>\n",
       "      <td>married</td>\n",
       "      <td>blue-collar</td>\n",
       "      <td>Husband</td>\n",
       "      <td>White</td>\n",
       "      <td>Male</td>\n",
       "      <td>0</td>\n",
       "      <td>0</td>\n",
       "      <td>50</td>\n",
       "      <td>America</td>\n",
       "      <td>0</td>\n",
       "    </tr>\n",
       "    <tr>\n",
       "      <th>2</th>\n",
       "      <td>28</td>\n",
       "      <td>state-level-gov</td>\n",
       "      <td>college</td>\n",
       "      <td>married</td>\n",
       "      <td>blue-collar</td>\n",
       "      <td>Husband</td>\n",
       "      <td>White</td>\n",
       "      <td>Male</td>\n",
       "      <td>0</td>\n",
       "      <td>0</td>\n",
       "      <td>40</td>\n",
       "      <td>America</td>\n",
       "      <td>1</td>\n",
       "    </tr>\n",
       "    <tr>\n",
       "      <th>3</th>\n",
       "      <td>44</td>\n",
       "      <td>Private</td>\n",
       "      <td>college</td>\n",
       "      <td>married</td>\n",
       "      <td>blue-collar</td>\n",
       "      <td>Husband</td>\n",
       "      <td>Black</td>\n",
       "      <td>Male</td>\n",
       "      <td>7688</td>\n",
       "      <td>0</td>\n",
       "      <td>40</td>\n",
       "      <td>America</td>\n",
       "      <td>1</td>\n",
       "    </tr>\n",
       "    <tr>\n",
       "      <th>5</th>\n",
       "      <td>34</td>\n",
       "      <td>Private</td>\n",
       "      <td>high-school</td>\n",
       "      <td>Never-married</td>\n",
       "      <td>other</td>\n",
       "      <td>Not-in-family</td>\n",
       "      <td>White</td>\n",
       "      <td>Male</td>\n",
       "      <td>0</td>\n",
       "      <td>0</td>\n",
       "      <td>30</td>\n",
       "      <td>America</td>\n",
       "      <td>0</td>\n",
       "    </tr>\n",
       "  </tbody>\n",
       "</table>\n",
       "</div>"
      ],
      "text/plain": [
       "   age  workclass_recod   educ_recod      civstatus      collars  \\\n",
       "0   25          Private  high-school  Never-married  blue-collar   \n",
       "1   38          Private  high-school        married  blue-collar   \n",
       "2   28  state-level-gov      college        married  blue-collar   \n",
       "3   44          Private      college        married  blue-collar   \n",
       "5   34          Private  high-school  Never-married        other   \n",
       "\n",
       "    relationship   race gender  capital-gain  capital-loss  hours-per-week  \\\n",
       "0      Own-child  Black   Male             0             0              40   \n",
       "1        Husband  White   Male             0             0              50   \n",
       "2        Husband  White   Male             0             0              40   \n",
       "3        Husband  Black   Male          7688             0              40   \n",
       "5  Not-in-family  White   Male             0             0              30   \n",
       "\n",
       "    region  income  \n",
       "0  America       0  \n",
       "1  America       0  \n",
       "2  America       1  \n",
       "3  America       1  \n",
       "5  America       0  "
      ]
     },
     "execution_count": 19,
     "metadata": {},
     "output_type": "execute_result"
    }
   ],
   "source": [
    "df.head()"
   ]
  },
  {
   "cell_type": "markdown",
   "metadata": {},
   "source": [
    "* Se observa que existe un dataframe ordenado en base a los que se espera en la descripcion del problema, ademas se continua binarizando para poder ser tratado en los modelos computacionales"
   ]
  },
  {
   "cell_type": "code",
   "execution_count": 20,
   "metadata": {},
   "outputs": [],
   "source": [
    "df['gender'] = df['gender'].replace('Male', 0) \n",
    "df['gender'] = df['gender'].replace('Female', 1)"
   ]
  },
  {
   "cell_type": "markdown",
   "metadata": {},
   "source": [
    "* Se recorre el dateframe para observar las opciones que deben ser binarizadas"
   ]
  },
  {
   "cell_type": "code",
   "execution_count": 21,
   "metadata": {},
   "outputs": [
    {
     "name": "stdout",
     "output_type": "stream",
     "text": [
      "--------------------------\n",
      "\n",
      "Variable: age\n",
      "36    0.028371\n",
      "33    0.028283\n",
      "31    0.028172\n",
      "35    0.028128\n",
      "23    0.027442\n",
      "34    0.027288\n",
      "37    0.027177\n",
      "30    0.026867\n",
      "38    0.026779\n",
      "28    0.026492\n",
      "32    0.026447\n",
      "41    0.025961\n",
      "39    0.025850\n",
      "27    0.025585\n",
      "29    0.025585\n",
      "40    0.025297\n",
      "25    0.025054\n",
      "24    0.024988\n",
      "42    0.024612\n",
      "26    0.024148\n",
      "43    0.023550\n",
      "46    0.023484\n",
      "45    0.023197\n",
      "47    0.022953\n",
      "44    0.022887\n",
      "22    0.022865\n",
      "21    0.020676\n",
      "20    0.020256\n",
      "19    0.019106\n",
      "51    0.018464\n",
      "        ...   \n",
      "61    0.008713\n",
      "62    0.007253\n",
      "64    0.006302\n",
      "63    0.006192\n",
      "65    0.004799\n",
      "66    0.003980\n",
      "67    0.003980\n",
      "68    0.003007\n",
      "69    0.002565\n",
      "70    0.002123\n",
      "71    0.001990\n",
      "72    0.001835\n",
      "73    0.001813\n",
      "74    0.001305\n",
      "75    0.001172\n",
      "76    0.001017\n",
      "90    0.001017\n",
      "77    0.000862\n",
      "80    0.000641\n",
      "81    0.000597\n",
      "78    0.000464\n",
      "79    0.000442\n",
      "82    0.000221\n",
      "83    0.000199\n",
      "84    0.000199\n",
      "85    0.000111\n",
      "88    0.000111\n",
      "86    0.000022\n",
      "87    0.000022\n",
      "89    0.000022\n",
      "Name: age, Length: 74, dtype: float64\n",
      "--------------------------\n",
      "\n",
      "Variable: workclass_recod\n",
      "Private            0.736522\n",
      "self-employed      0.120340\n",
      "state-level-gov    0.111583\n",
      "Federal-gov        0.031091\n",
      "unemployed         0.000464\n",
      "Name: workclass_recod, dtype: float64\n",
      "--------------------------\n",
      "\n",
      "Variable: educ_recod\n",
      "high-school          0.435651\n",
      "college              0.295542\n",
      "university           0.252377\n",
      "elementary-school    0.014838\n",
      "preschool            0.001592\n",
      "Name: educ_recod, dtype: float64\n",
      "--------------------------\n",
      "\n",
      "Variable: civstatus\n",
      "married          0.478506\n",
      "Never-married    0.322807\n",
      "divorced         0.139246\n",
      "separated        0.031202\n",
      "widowed          0.028238\n",
      "Name: civstatus, dtype: float64\n",
      "--------------------------\n",
      "\n",
      "Variable: collars\n",
      "white-collar    0.538676\n",
      "blue-collar     0.354695\n",
      "other           0.106630\n",
      "Name: collars, dtype: float64\n",
      "--------------------------\n",
      "\n",
      "Variable: relationship\n",
      "Husband           0.412764\n",
      "Not-in-family     0.258768\n",
      "Own-child         0.146522\n",
      "Unmarried         0.105878\n",
      "Wife              0.046239\n",
      "Other-relative    0.029831\n",
      "Name: relationship, dtype: float64\n",
      "--------------------------\n",
      "\n",
      "Variable: race\n",
      "White                 0.860267\n",
      "Black                 0.093494\n",
      "Asian-Pac-Islander    0.028813\n",
      "Amer-Indian-Eskimo    0.009619\n",
      "Other                 0.007806\n",
      "Name: race, dtype: float64\n",
      "--------------------------\n",
      "\n",
      "Variable: gender\n",
      "0    0.675048\n",
      "1    0.324952\n",
      "Name: gender, dtype: float64\n",
      "--------------------------\n",
      "\n",
      "Variable: capital-gain\n",
      "0        0.916191\n",
      "15024    0.011012\n",
      "7688     0.008646\n",
      "7298     0.007762\n",
      "99999    0.005064\n",
      "3103     0.003229\n",
      "5178     0.003029\n",
      "5013     0.002565\n",
      "4386     0.002256\n",
      "3325     0.001791\n",
      "8614     0.001725\n",
      "2174     0.001592\n",
      "10520    0.001415\n",
      "4650     0.001371\n",
      "27828    0.001238\n",
      "4064     0.001150\n",
      "3137     0.001106\n",
      "14084    0.001039\n",
      "20051    0.000973\n",
      "594      0.000929\n",
      "3908     0.000907\n",
      "6849     0.000907\n",
      "13550    0.000885\n",
      "2829     0.000885\n",
      "4787     0.000752\n",
      "14344    0.000752\n",
      "1055     0.000686\n",
      "3464     0.000663\n",
      "3411     0.000663\n",
      "2597     0.000641\n",
      "           ...   \n",
      "1424     0.000088\n",
      "6767     0.000088\n",
      "11678    0.000088\n",
      "991      0.000088\n",
      "2538     0.000088\n",
      "25124    0.000088\n",
      "2050     0.000066\n",
      "1455     0.000066\n",
      "7896     0.000066\n",
      "6360     0.000066\n",
      "2936     0.000066\n",
      "2062     0.000066\n",
      "2228     0.000066\n",
      "41310    0.000066\n",
      "18481    0.000044\n",
      "5060     0.000044\n",
      "3432     0.000044\n",
      "6097     0.000044\n",
      "7978     0.000044\n",
      "2961     0.000044\n",
      "2993     0.000044\n",
      "1173     0.000044\n",
      "2009     0.000044\n",
      "1264     0.000044\n",
      "401      0.000044\n",
      "1731     0.000022\n",
      "22040    0.000022\n",
      "7262     0.000022\n",
      "1639     0.000022\n",
      "2387     0.000022\n",
      "Name: capital-gain, Length: 121, dtype: float64\n",
      "--------------------------\n",
      "\n",
      "Variable: capital-loss\n",
      "0       0.952678\n",
      "1902    0.006501\n",
      "1977    0.005440\n",
      "1887    0.005042\n",
      "2415    0.001504\n",
      "1485    0.001437\n",
      "1848    0.001437\n",
      "1876    0.001305\n",
      "1590    0.001283\n",
      "1740    0.001260\n",
      "1672    0.001084\n",
      "1741    0.000929\n",
      "1564    0.000885\n",
      "1602    0.000885\n",
      "2258    0.000862\n",
      "1980    0.000796\n",
      "1669    0.000752\n",
      "1719    0.000730\n",
      "2001    0.000708\n",
      "1408    0.000708\n",
      "2002    0.000686\n",
      "1579    0.000641\n",
      "2051    0.000641\n",
      "1974    0.000597\n",
      "2339    0.000531\n",
      "1504    0.000509\n",
      "1628    0.000486\n",
      "1721    0.000486\n",
      "2377    0.000464\n",
      "2444    0.000442\n",
      "          ...   \n",
      "2267    0.000066\n",
      "1429    0.000066\n",
      "1944    0.000066\n",
      "1735    0.000066\n",
      "1411    0.000066\n",
      "2754    0.000044\n",
      "1755    0.000044\n",
      "1816    0.000044\n",
      "3683    0.000044\n",
      "2457    0.000044\n",
      "3175    0.000044\n",
      "1510    0.000044\n",
      "1844    0.000044\n",
      "3900    0.000044\n",
      "2352    0.000044\n",
      "1648    0.000044\n",
      "810     0.000044\n",
      "2282    0.000044\n",
      "974     0.000044\n",
      "2467    0.000044\n",
      "2080    0.000022\n",
      "155     0.000022\n",
      "1911    0.000022\n",
      "419     0.000022\n",
      "1539    0.000022\n",
      "2201    0.000022\n",
      "1421    0.000022\n",
      "4356    0.000022\n",
      "2163    0.000022\n",
      "1870    0.000022\n",
      "Name: capital-loss, Length: 97, dtype: float64\n",
      "--------------------------\n",
      "\n",
      "Variable: hours-per-week\n",
      "40    0.472292\n",
      "50    0.090531\n",
      "45    0.057538\n",
      "60    0.046106\n",
      "35    0.039273\n",
      "20    0.035425\n",
      "30    0.032440\n",
      "55    0.022555\n",
      "25    0.018133\n",
      "48    0.016209\n",
      "38    0.015059\n",
      "15    0.011477\n",
      "70    0.009243\n",
      "32    0.008204\n",
      "65    0.007717\n",
      "10    0.007342\n",
      "42    0.007209\n",
      "36    0.006811\n",
      "24    0.006722\n",
      "44    0.006656\n",
      "16    0.005595\n",
      "37    0.005219\n",
      "43    0.004843\n",
      "12    0.004445\n",
      "52    0.004423\n",
      "80    0.004179\n",
      "8     0.003361\n",
      "56    0.002941\n",
      "46    0.002808\n",
      "28    0.002720\n",
      "        ...   \n",
      "85    0.000376\n",
      "68    0.000354\n",
      "11    0.000354\n",
      "63    0.000310\n",
      "98    0.000310\n",
      "78    0.000287\n",
      "31    0.000265\n",
      "29    0.000265\n",
      "1     0.000265\n",
      "77    0.000199\n",
      "96    0.000199\n",
      "67    0.000133\n",
      "59    0.000133\n",
      "76    0.000088\n",
      "61    0.000088\n",
      "86    0.000088\n",
      "88    0.000088\n",
      "73    0.000066\n",
      "74    0.000066\n",
      "92    0.000066\n",
      "81    0.000066\n",
      "91    0.000066\n",
      "89    0.000066\n",
      "97    0.000044\n",
      "95    0.000044\n",
      "69    0.000022\n",
      "94    0.000022\n",
      "79    0.000022\n",
      "82    0.000022\n",
      "87    0.000022\n",
      "Name: hours-per-week, Length: 96, dtype: float64\n",
      "--------------------------\n",
      "\n",
      "Variable: region\n",
      "America    0.960882\n",
      "Asia       0.022799\n",
      "Europa     0.016319\n",
      "Name: region, dtype: float64\n",
      "--------------------------\n",
      "\n",
      "Variable: income\n",
      "0    0.752156\n",
      "1    0.247844\n",
      "Name: income, dtype: float64\n"
     ]
    }
   ],
   "source": [
    "for i in df.columns:\n",
    "    print('--------------------------')\n",
    "    print('\\nVariable:',i+'\\n'+str(df[i].value_counts('%')))"
   ]
  },
  {
   "cell_type": "markdown",
   "metadata": {},
   "source": [
    "# Modelacion Descriptiva"
   ]
  },
  {
   "cell_type": "markdown",
   "metadata": {},
   "source": [
    "Se continuara binarizando la data, ahora con el objetivo de poder realizar regresion a cada modelo"
   ]
  },
  {
   "cell_type": "code",
   "execution_count": 22,
   "metadata": {},
   "outputs": [
    {
     "data": {
      "text/html": [
       "<div>\n",
       "<style scoped>\n",
       "    .dataframe tbody tr th:only-of-type {\n",
       "        vertical-align: middle;\n",
       "    }\n",
       "\n",
       "    .dataframe tbody tr th {\n",
       "        vertical-align: top;\n",
       "    }\n",
       "\n",
       "    .dataframe thead th {\n",
       "        text-align: right;\n",
       "    }\n",
       "</style>\n",
       "<table border=\"1\" class=\"dataframe\">\n",
       "  <thead>\n",
       "    <tr style=\"text-align: right;\">\n",
       "      <th></th>\n",
       "      <th>age</th>\n",
       "      <th>gender</th>\n",
       "      <th>capital-gain</th>\n",
       "      <th>capital-loss</th>\n",
       "      <th>hours-per-week</th>\n",
       "      <th>income</th>\n",
       "      <th>workclass_recod_Private</th>\n",
       "      <th>workclass_recod_self-employed</th>\n",
       "      <th>workclass_recod_state-level-gov</th>\n",
       "      <th>workclass_recod_unemployed</th>\n",
       "      <th>...</th>\n",
       "      <th>relationship_Other-relative</th>\n",
       "      <th>relationship_Own-child</th>\n",
       "      <th>relationship_Unmarried</th>\n",
       "      <th>relationship_Wife</th>\n",
       "      <th>race_Asian-Pac-Islander</th>\n",
       "      <th>race_Black</th>\n",
       "      <th>race_Other</th>\n",
       "      <th>race_White</th>\n",
       "      <th>region_Asia</th>\n",
       "      <th>region_Europa</th>\n",
       "    </tr>\n",
       "  </thead>\n",
       "  <tbody>\n",
       "    <tr>\n",
       "      <th>0</th>\n",
       "      <td>25</td>\n",
       "      <td>0</td>\n",
       "      <td>0</td>\n",
       "      <td>0</td>\n",
       "      <td>40</td>\n",
       "      <td>0</td>\n",
       "      <td>1</td>\n",
       "      <td>0</td>\n",
       "      <td>0</td>\n",
       "      <td>0</td>\n",
       "      <td>...</td>\n",
       "      <td>0</td>\n",
       "      <td>1</td>\n",
       "      <td>0</td>\n",
       "      <td>0</td>\n",
       "      <td>0</td>\n",
       "      <td>1</td>\n",
       "      <td>0</td>\n",
       "      <td>0</td>\n",
       "      <td>0</td>\n",
       "      <td>0</td>\n",
       "    </tr>\n",
       "    <tr>\n",
       "      <th>1</th>\n",
       "      <td>38</td>\n",
       "      <td>0</td>\n",
       "      <td>0</td>\n",
       "      <td>0</td>\n",
       "      <td>50</td>\n",
       "      <td>0</td>\n",
       "      <td>1</td>\n",
       "      <td>0</td>\n",
       "      <td>0</td>\n",
       "      <td>0</td>\n",
       "      <td>...</td>\n",
       "      <td>0</td>\n",
       "      <td>0</td>\n",
       "      <td>0</td>\n",
       "      <td>0</td>\n",
       "      <td>0</td>\n",
       "      <td>0</td>\n",
       "      <td>0</td>\n",
       "      <td>1</td>\n",
       "      <td>0</td>\n",
       "      <td>0</td>\n",
       "    </tr>\n",
       "    <tr>\n",
       "      <th>2</th>\n",
       "      <td>28</td>\n",
       "      <td>0</td>\n",
       "      <td>0</td>\n",
       "      <td>0</td>\n",
       "      <td>40</td>\n",
       "      <td>1</td>\n",
       "      <td>0</td>\n",
       "      <td>0</td>\n",
       "      <td>1</td>\n",
       "      <td>0</td>\n",
       "      <td>...</td>\n",
       "      <td>0</td>\n",
       "      <td>0</td>\n",
       "      <td>0</td>\n",
       "      <td>0</td>\n",
       "      <td>0</td>\n",
       "      <td>0</td>\n",
       "      <td>0</td>\n",
       "      <td>1</td>\n",
       "      <td>0</td>\n",
       "      <td>0</td>\n",
       "    </tr>\n",
       "    <tr>\n",
       "      <th>3</th>\n",
       "      <td>44</td>\n",
       "      <td>0</td>\n",
       "      <td>7688</td>\n",
       "      <td>0</td>\n",
       "      <td>40</td>\n",
       "      <td>1</td>\n",
       "      <td>1</td>\n",
       "      <td>0</td>\n",
       "      <td>0</td>\n",
       "      <td>0</td>\n",
       "      <td>...</td>\n",
       "      <td>0</td>\n",
       "      <td>0</td>\n",
       "      <td>0</td>\n",
       "      <td>0</td>\n",
       "      <td>0</td>\n",
       "      <td>1</td>\n",
       "      <td>0</td>\n",
       "      <td>0</td>\n",
       "      <td>0</td>\n",
       "      <td>0</td>\n",
       "    </tr>\n",
       "    <tr>\n",
       "      <th>5</th>\n",
       "      <td>34</td>\n",
       "      <td>0</td>\n",
       "      <td>0</td>\n",
       "      <td>0</td>\n",
       "      <td>30</td>\n",
       "      <td>0</td>\n",
       "      <td>1</td>\n",
       "      <td>0</td>\n",
       "      <td>0</td>\n",
       "      <td>0</td>\n",
       "      <td>...</td>\n",
       "      <td>0</td>\n",
       "      <td>0</td>\n",
       "      <td>0</td>\n",
       "      <td>0</td>\n",
       "      <td>0</td>\n",
       "      <td>0</td>\n",
       "      <td>0</td>\n",
       "      <td>1</td>\n",
       "      <td>0</td>\n",
       "      <td>0</td>\n",
       "    </tr>\n",
       "  </tbody>\n",
       "</table>\n",
       "<p>5 rows × 31 columns</p>\n",
       "</div>"
      ],
      "text/plain": [
       "   age  gender  capital-gain  capital-loss  hours-per-week  income  \\\n",
       "0   25       0             0             0              40       0   \n",
       "1   38       0             0             0              50       0   \n",
       "2   28       0             0             0              40       1   \n",
       "3   44       0          7688             0              40       1   \n",
       "5   34       0             0             0              30       0   \n",
       "\n",
       "   workclass_recod_Private  workclass_recod_self-employed  \\\n",
       "0                        1                              0   \n",
       "1                        1                              0   \n",
       "2                        0                              0   \n",
       "3                        1                              0   \n",
       "5                        1                              0   \n",
       "\n",
       "   workclass_recod_state-level-gov  workclass_recod_unemployed  ...  \\\n",
       "0                                0                           0  ...   \n",
       "1                                0                           0  ...   \n",
       "2                                1                           0  ...   \n",
       "3                                0                           0  ...   \n",
       "5                                0                           0  ...   \n",
       "\n",
       "   relationship_Other-relative  relationship_Own-child  \\\n",
       "0                            0                       1   \n",
       "1                            0                       0   \n",
       "2                            0                       0   \n",
       "3                            0                       0   \n",
       "5                            0                       0   \n",
       "\n",
       "   relationship_Unmarried  relationship_Wife  race_Asian-Pac-Islander  \\\n",
       "0                       0                  0                        0   \n",
       "1                       0                  0                        0   \n",
       "2                       0                  0                        0   \n",
       "3                       0                  0                        0   \n",
       "5                       0                  0                        0   \n",
       "\n",
       "   race_Black  race_Other  race_White  region_Asia  region_Europa  \n",
       "0           1           0           0            0              0  \n",
       "1           0           0           1            0              0  \n",
       "2           0           0           1            0              0  \n",
       "3           1           0           0            0              0  \n",
       "5           0           0           1            0              0  \n",
       "\n",
       "[5 rows x 31 columns]"
      ]
     },
     "execution_count": 22,
     "metadata": {},
     "output_type": "execute_result"
    }
   ],
   "source": [
    "df = pd.get_dummies(df,drop_first=True,columns=['workclass_recod','educ_recod','civstatus','collars','relationship','race','region'])\n",
    "df.head()                   \n",
    "                                 "
   ]
  },
  {
   "cell_type": "code",
   "execution_count": 23,
   "metadata": {},
   "outputs": [],
   "source": [
    "#Se ejecuta un pequeño for para verificar que solo se traten de enteros, en caso de no retornar nada, todo es ok\n",
    "for i in df.columns:\n",
    "    for j in df[i]:\n",
    "        if(type(j)!= int):\n",
    "            print(j)"
   ]
  },
  {
   "cell_type": "code",
   "execution_count": 24,
   "metadata": {},
   "outputs": [
    {
     "data": {
      "text/html": [
       "<div>\n",
       "<style scoped>\n",
       "    .dataframe tbody tr th:only-of-type {\n",
       "        vertical-align: middle;\n",
       "    }\n",
       "\n",
       "    .dataframe tbody tr th {\n",
       "        vertical-align: top;\n",
       "    }\n",
       "\n",
       "    .dataframe thead th {\n",
       "        text-align: right;\n",
       "    }\n",
       "</style>\n",
       "<table border=\"1\" class=\"dataframe\">\n",
       "  <thead>\n",
       "    <tr style=\"text-align: right;\">\n",
       "      <th></th>\n",
       "      <th>age</th>\n",
       "      <th>gender</th>\n",
       "      <th>capital-gain</th>\n",
       "      <th>capital-loss</th>\n",
       "      <th>hours-per-week</th>\n",
       "      <th>income</th>\n",
       "      <th>workclass_recod_Private</th>\n",
       "      <th>workclass_recod_self-employed</th>\n",
       "      <th>workclass_recod_state-level-gov</th>\n",
       "      <th>workclass_recod_unemployed</th>\n",
       "      <th>...</th>\n",
       "      <th>relationship_Other-relative</th>\n",
       "      <th>relationship_Own-child</th>\n",
       "      <th>relationship_Unmarried</th>\n",
       "      <th>relationship_Wife</th>\n",
       "      <th>race_Asian-Pac-Islander</th>\n",
       "      <th>race_Black</th>\n",
       "      <th>race_Other</th>\n",
       "      <th>race_White</th>\n",
       "      <th>region_Asia</th>\n",
       "      <th>region_Europa</th>\n",
       "    </tr>\n",
       "  </thead>\n",
       "  <tbody>\n",
       "    <tr>\n",
       "      <th>0</th>\n",
       "      <td>25</td>\n",
       "      <td>0</td>\n",
       "      <td>0</td>\n",
       "      <td>0</td>\n",
       "      <td>40</td>\n",
       "      <td>0</td>\n",
       "      <td>1</td>\n",
       "      <td>0</td>\n",
       "      <td>0</td>\n",
       "      <td>0</td>\n",
       "      <td>...</td>\n",
       "      <td>0</td>\n",
       "      <td>1</td>\n",
       "      <td>0</td>\n",
       "      <td>0</td>\n",
       "      <td>0</td>\n",
       "      <td>1</td>\n",
       "      <td>0</td>\n",
       "      <td>0</td>\n",
       "      <td>0</td>\n",
       "      <td>0</td>\n",
       "    </tr>\n",
       "    <tr>\n",
       "      <th>1</th>\n",
       "      <td>38</td>\n",
       "      <td>0</td>\n",
       "      <td>0</td>\n",
       "      <td>0</td>\n",
       "      <td>50</td>\n",
       "      <td>0</td>\n",
       "      <td>1</td>\n",
       "      <td>0</td>\n",
       "      <td>0</td>\n",
       "      <td>0</td>\n",
       "      <td>...</td>\n",
       "      <td>0</td>\n",
       "      <td>0</td>\n",
       "      <td>0</td>\n",
       "      <td>0</td>\n",
       "      <td>0</td>\n",
       "      <td>0</td>\n",
       "      <td>0</td>\n",
       "      <td>1</td>\n",
       "      <td>0</td>\n",
       "      <td>0</td>\n",
       "    </tr>\n",
       "    <tr>\n",
       "      <th>2</th>\n",
       "      <td>28</td>\n",
       "      <td>0</td>\n",
       "      <td>0</td>\n",
       "      <td>0</td>\n",
       "      <td>40</td>\n",
       "      <td>1</td>\n",
       "      <td>0</td>\n",
       "      <td>0</td>\n",
       "      <td>1</td>\n",
       "      <td>0</td>\n",
       "      <td>...</td>\n",
       "      <td>0</td>\n",
       "      <td>0</td>\n",
       "      <td>0</td>\n",
       "      <td>0</td>\n",
       "      <td>0</td>\n",
       "      <td>0</td>\n",
       "      <td>0</td>\n",
       "      <td>1</td>\n",
       "      <td>0</td>\n",
       "      <td>0</td>\n",
       "    </tr>\n",
       "    <tr>\n",
       "      <th>3</th>\n",
       "      <td>44</td>\n",
       "      <td>0</td>\n",
       "      <td>7688</td>\n",
       "      <td>0</td>\n",
       "      <td>40</td>\n",
       "      <td>1</td>\n",
       "      <td>1</td>\n",
       "      <td>0</td>\n",
       "      <td>0</td>\n",
       "      <td>0</td>\n",
       "      <td>...</td>\n",
       "      <td>0</td>\n",
       "      <td>0</td>\n",
       "      <td>0</td>\n",
       "      <td>0</td>\n",
       "      <td>0</td>\n",
       "      <td>1</td>\n",
       "      <td>0</td>\n",
       "      <td>0</td>\n",
       "      <td>0</td>\n",
       "      <td>0</td>\n",
       "    </tr>\n",
       "    <tr>\n",
       "      <th>5</th>\n",
       "      <td>34</td>\n",
       "      <td>0</td>\n",
       "      <td>0</td>\n",
       "      <td>0</td>\n",
       "      <td>30</td>\n",
       "      <td>0</td>\n",
       "      <td>1</td>\n",
       "      <td>0</td>\n",
       "      <td>0</td>\n",
       "      <td>0</td>\n",
       "      <td>...</td>\n",
       "      <td>0</td>\n",
       "      <td>0</td>\n",
       "      <td>0</td>\n",
       "      <td>0</td>\n",
       "      <td>0</td>\n",
       "      <td>0</td>\n",
       "      <td>0</td>\n",
       "      <td>1</td>\n",
       "      <td>0</td>\n",
       "      <td>0</td>\n",
       "    </tr>\n",
       "  </tbody>\n",
       "</table>\n",
       "<p>5 rows × 31 columns</p>\n",
       "</div>"
      ],
      "text/plain": [
       "   age  gender  capital-gain  capital-loss  hours-per-week  income  \\\n",
       "0   25       0             0             0              40       0   \n",
       "1   38       0             0             0              50       0   \n",
       "2   28       0             0             0              40       1   \n",
       "3   44       0          7688             0              40       1   \n",
       "5   34       0             0             0              30       0   \n",
       "\n",
       "   workclass_recod_Private  workclass_recod_self-employed  \\\n",
       "0                        1                              0   \n",
       "1                        1                              0   \n",
       "2                        0                              0   \n",
       "3                        1                              0   \n",
       "5                        1                              0   \n",
       "\n",
       "   workclass_recod_state-level-gov  workclass_recod_unemployed  ...  \\\n",
       "0                                0                           0  ...   \n",
       "1                                0                           0  ...   \n",
       "2                                1                           0  ...   \n",
       "3                                0                           0  ...   \n",
       "5                                0                           0  ...   \n",
       "\n",
       "   relationship_Other-relative  relationship_Own-child  \\\n",
       "0                            0                       1   \n",
       "1                            0                       0   \n",
       "2                            0                       0   \n",
       "3                            0                       0   \n",
       "5                            0                       0   \n",
       "\n",
       "   relationship_Unmarried  relationship_Wife  race_Asian-Pac-Islander  \\\n",
       "0                       0                  0                        0   \n",
       "1                       0                  0                        0   \n",
       "2                       0                  0                        0   \n",
       "3                       0                  0                        0   \n",
       "5                       0                  0                        0   \n",
       "\n",
       "   race_Black  race_Other  race_White  region_Asia  region_Europa  \n",
       "0           1           0           0            0              0  \n",
       "1           0           0           1            0              0  \n",
       "2           0           0           1            0              0  \n",
       "3           1           0           0            0              0  \n",
       "5           0           0           1            0              0  \n",
       "\n",
       "[5 rows x 31 columns]"
      ]
     },
     "execution_count": 24,
     "metadata": {},
     "output_type": "execute_result"
    }
   ],
   "source": [
    "df.head()"
   ]
  },
  {
   "cell_type": "markdown",
   "metadata": {},
   "source": [
    "##### Finalmente las columnas tratadas son"
   ]
  },
  {
   "cell_type": "code",
   "execution_count": 25,
   "metadata": {},
   "outputs": [
    {
     "data": {
      "text/plain": [
       "Index(['age', 'gender', 'capital-gain', 'capital-loss', 'hours-per-week',\n",
       "       'income', 'workclass_recod_Private', 'workclass_recod_self-employed',\n",
       "       'workclass_recod_state-level-gov', 'workclass_recod_unemployed',\n",
       "       'educ_recod_elementary-school', 'educ_recod_high-school',\n",
       "       'educ_recod_preschool', 'educ_recod_university', 'civstatus_divorced',\n",
       "       'civstatus_married', 'civstatus_separated', 'civstatus_widowed',\n",
       "       'collars_other', 'collars_white-collar', 'relationship_Not-in-family',\n",
       "       'relationship_Other-relative', 'relationship_Own-child',\n",
       "       'relationship_Unmarried', 'relationship_Wife',\n",
       "       'race_Asian-Pac-Islander', 'race_Black', 'race_Other', 'race_White',\n",
       "       'region_Asia', 'region_Europa'],\n",
       "      dtype='object')"
      ]
     },
     "execution_count": 25,
     "metadata": {},
     "output_type": "execute_result"
    }
   ],
   "source": [
    "df.columns\n"
   ]
  },
  {
   "cell_type": "markdown",
   "metadata": {},
   "source": [
    "#### Se procede a crear el modelo en base a las columnas"
   ]
  },
  {
   "cell_type": "code",
   "execution_count": 26,
   "metadata": {},
   "outputs": [],
   "source": [
    "df.columns = df.columns.str.replace(\"-\", \"_\")\n",
    "df_saturado = df"
   ]
  },
  {
   "cell_type": "code",
   "execution_count": 27,
   "metadata": {},
   "outputs": [
    {
     "data": {
      "text/plain": [
       "'income ~ age + gender + capital_gain + capital_loss + hours_per_week + workclass_recod_Private + workclass_recod_self_employed + workclass_recod_state_level_gov + workclass_recod_unemployed + educ_recod_elementary_school + educ_recod_high_school + educ_recod_preschool + educ_recod_university + civstatus_divorced + civstatus_married + civstatus_separated + civstatus_widowed + collars_other + collars_white_collar + relationship_Not_in_family + relationship_Other_relative + relationship_Own_child + relationship_Unmarried + relationship_Wife + race_Asian_Pac_Islander + race_Black + race_Other + race_White + region_Asia + region_Europa'"
      ]
     },
     "execution_count": 27,
     "metadata": {},
     "output_type": "execute_result"
    }
   ],
   "source": [
    "lista = list(df.columns)\n",
    "lista.remove('income')\n",
    "modelo_str = ' + '.join(lista)\n",
    "modelo_str = 'income ~ '+modelo_str\n",
    "modelo_str"
   ]
  },
  {
   "cell_type": "code",
   "execution_count": 28,
   "metadata": {
    "scrolled": true
   },
   "outputs": [
    {
     "name": "stdout",
     "output_type": "stream",
     "text": [
      "Optimization terminated successfully.\n",
      "         Current function value: 0.335615\n",
      "         Iterations 11\n"
     ]
    }
   ],
   "source": [
    "modelo = smf.logit(formula= modelo_str,data=df).fit()"
   ]
  },
  {
   "cell_type": "code",
   "execution_count": 29,
   "metadata": {},
   "outputs": [
    {
     "data": {
      "text/html": [
       "<table class=\"simpletable\">\n",
       "<caption>Logit Regression Results</caption>\n",
       "<tr>\n",
       "  <th>Dep. Variable:</th>      <td>income</td>      <th>  No. Observations:  </th>  <td> 45222</td> \n",
       "</tr>\n",
       "<tr>\n",
       "  <th>Model:</th>               <td>Logit</td>      <th>  Df Residuals:      </th>  <td> 45191</td> \n",
       "</tr>\n",
       "<tr>\n",
       "  <th>Method:</th>               <td>MLE</td>       <th>  Df Model:          </th>  <td>    30</td> \n",
       "</tr>\n",
       "<tr>\n",
       "  <th>Date:</th>          <td>Wed, 24 Jul 2019</td> <th>  Pseudo R-squ.:     </th>  <td>0.4006</td> \n",
       "</tr>\n",
       "<tr>\n",
       "  <th>Time:</th>              <td>11:59:09</td>     <th>  Log-Likelihood:    </th> <td> -15177.</td>\n",
       "</tr>\n",
       "<tr>\n",
       "  <th>converged:</th>           <td>True</td>       <th>  LL-Null:           </th> <td> -25322.</td>\n",
       "</tr>\n",
       "<tr>\n",
       "  <th> </th>                      <td> </td>        <th>  LLR p-value:       </th>  <td> 0.000</td> \n",
       "</tr>\n",
       "</table>\n",
       "<table class=\"simpletable\">\n",
       "<tr>\n",
       "                 <td></td>                    <th>coef</th>     <th>std err</th>      <th>z</th>      <th>P>|z|</th>  <th>[0.025</th>    <th>0.975]</th>  \n",
       "</tr>\n",
       "<tr>\n",
       "  <th>Intercept</th>                       <td>   -4.4898</td> <td>    0.250</td> <td>  -17.938</td> <td> 0.000</td> <td>   -4.980</td> <td>   -3.999</td>\n",
       "</tr>\n",
       "<tr>\n",
       "  <th>age</th>                             <td>    0.0235</td> <td>    0.001</td> <td>   17.632</td> <td> 0.000</td> <td>    0.021</td> <td>    0.026</td>\n",
       "</tr>\n",
       "<tr>\n",
       "  <th>gender</th>                          <td>   -0.7860</td> <td>    0.064</td> <td>  -12.310</td> <td> 0.000</td> <td>   -0.911</td> <td>   -0.661</td>\n",
       "</tr>\n",
       "<tr>\n",
       "  <th>capital_gain</th>                    <td>    0.0003</td> <td> 8.55e-06</td> <td>   37.256</td> <td> 0.000</td> <td>    0.000</td> <td>    0.000</td>\n",
       "</tr>\n",
       "<tr>\n",
       "  <th>capital_loss</th>                    <td>    0.0007</td> <td> 3.05e-05</td> <td>   21.792</td> <td> 0.000</td> <td>    0.001</td> <td>    0.001</td>\n",
       "</tr>\n",
       "<tr>\n",
       "  <th>hours_per_week</th>                  <td>    0.0298</td> <td>    0.001</td> <td>   22.797</td> <td> 0.000</td> <td>    0.027</td> <td>    0.032</td>\n",
       "</tr>\n",
       "<tr>\n",
       "  <th>workclass_recod_Private</th>         <td>   -0.4718</td> <td>    0.075</td> <td>   -6.305</td> <td> 0.000</td> <td>   -0.618</td> <td>   -0.325</td>\n",
       "</tr>\n",
       "<tr>\n",
       "  <th>workclass_recod_self_employed</th>   <td>   -0.7977</td> <td>    0.082</td> <td>   -9.752</td> <td> 0.000</td> <td>   -0.958</td> <td>   -0.637</td>\n",
       "</tr>\n",
       "<tr>\n",
       "  <th>workclass_recod_state_level_gov</th> <td>   -0.4970</td> <td>    0.083</td> <td>   -5.956</td> <td> 0.000</td> <td>   -0.660</td> <td>   -0.333</td>\n",
       "</tr>\n",
       "<tr>\n",
       "  <th>workclass_recod_unemployed</th>      <td>   -1.4025</td> <td>    0.791</td> <td>   -1.774</td> <td> 0.076</td> <td>   -2.953</td> <td>    0.147</td>\n",
       "</tr>\n",
       "<tr>\n",
       "  <th>educ_recod_elementary_school</th>    <td>   -1.9204</td> <td>    0.204</td> <td>   -9.414</td> <td> 0.000</td> <td>   -2.320</td> <td>   -1.521</td>\n",
       "</tr>\n",
       "<tr>\n",
       "  <th>educ_recod_high_school</th>          <td>   -0.5906</td> <td>    0.037</td> <td>  -16.122</td> <td> 0.000</td> <td>   -0.662</td> <td>   -0.519</td>\n",
       "</tr>\n",
       "<tr>\n",
       "  <th>educ_recod_preschool</th>            <td>   -6.5207</td> <td>    4.098</td> <td>   -1.591</td> <td> 0.112</td> <td>  -14.552</td> <td>    1.510</td>\n",
       "</tr>\n",
       "<tr>\n",
       "  <th>educ_recod_university</th>           <td>    0.9063</td> <td>    0.038</td> <td>   23.727</td> <td> 0.000</td> <td>    0.831</td> <td>    0.981</td>\n",
       "</tr>\n",
       "<tr>\n",
       "  <th>civstatus_divorced</th>              <td>    0.5080</td> <td>    0.072</td> <td>    7.060</td> <td> 0.000</td> <td>    0.367</td> <td>    0.649</td>\n",
       "</tr>\n",
       "<tr>\n",
       "  <th>civstatus_married</th>               <td>    1.2879</td> <td>    0.136</td> <td>    9.491</td> <td> 0.000</td> <td>    1.022</td> <td>    1.554</td>\n",
       "</tr>\n",
       "<tr>\n",
       "  <th>civstatus_separated</th>             <td>    0.4683</td> <td>    0.134</td> <td>    3.490</td> <td> 0.000</td> <td>    0.205</td> <td>    0.731</td>\n",
       "</tr>\n",
       "<tr>\n",
       "  <th>civstatus_widowed</th>               <td>    0.5918</td> <td>    0.132</td> <td>    4.499</td> <td> 0.000</td> <td>    0.334</td> <td>    0.850</td>\n",
       "</tr>\n",
       "<tr>\n",
       "  <th>collars_other</th>                   <td>   -0.7389</td> <td>    0.086</td> <td>   -8.551</td> <td> 0.000</td> <td>   -0.908</td> <td>   -0.570</td>\n",
       "</tr>\n",
       "<tr>\n",
       "  <th>collars_white_collar</th>            <td>    0.6704</td> <td>    0.035</td> <td>   19.105</td> <td> 0.000</td> <td>    0.602</td> <td>    0.739</td>\n",
       "</tr>\n",
       "<tr>\n",
       "  <th>relationship_Not_in_family</th>      <td>   -0.9552</td> <td>    0.133</td> <td>   -7.190</td> <td> 0.000</td> <td>   -1.216</td> <td>   -0.695</td>\n",
       "</tr>\n",
       "<tr>\n",
       "  <th>relationship_Other_relative</th>     <td>   -1.4567</td> <td>    0.186</td> <td>   -7.831</td> <td> 0.000</td> <td>   -1.821</td> <td>   -1.092</td>\n",
       "</tr>\n",
       "<tr>\n",
       "  <th>relationship_Own_child</th>          <td>   -1.9930</td> <td>    0.166</td> <td>  -12.033</td> <td> 0.000</td> <td>   -2.318</td> <td>   -1.668</td>\n",
       "</tr>\n",
       "<tr>\n",
       "  <th>relationship_Unmarried</th>          <td>   -1.1960</td> <td>    0.149</td> <td>   -8.006</td> <td> 0.000</td> <td>   -1.489</td> <td>   -0.903</td>\n",
       "</tr>\n",
       "<tr>\n",
       "  <th>relationship_Wife</th>               <td>    1.0536</td> <td>    0.084</td> <td>   12.584</td> <td> 0.000</td> <td>    0.890</td> <td>    1.218</td>\n",
       "</tr>\n",
       "<tr>\n",
       "  <th>race_Asian_Pac_Islander</th>         <td>    0.8822</td> <td>    0.224</td> <td>    3.937</td> <td> 0.000</td> <td>    0.443</td> <td>    1.321</td>\n",
       "</tr>\n",
       "<tr>\n",
       "  <th>race_Black</th>                      <td>    0.3725</td> <td>    0.189</td> <td>    1.968</td> <td> 0.049</td> <td>    0.002</td> <td>    0.744</td>\n",
       "</tr>\n",
       "<tr>\n",
       "  <th>race_Other</th>                      <td>    0.2758</td> <td>    0.270</td> <td>    1.021</td> <td> 0.307</td> <td>   -0.254</td> <td>    0.805</td>\n",
       "</tr>\n",
       "<tr>\n",
       "  <th>race_White</th>                      <td>    0.6021</td> <td>    0.180</td> <td>    3.336</td> <td> 0.001</td> <td>    0.248</td> <td>    0.956</td>\n",
       "</tr>\n",
       "<tr>\n",
       "  <th>region_Asia</th>                     <td>   -0.4457</td> <td>    0.150</td> <td>   -2.981</td> <td> 0.003</td> <td>   -0.739</td> <td>   -0.153</td>\n",
       "</tr>\n",
       "<tr>\n",
       "  <th>region_Europa</th>                   <td>    0.2009</td> <td>    0.105</td> <td>    1.918</td> <td> 0.055</td> <td>   -0.004</td> <td>    0.406</td>\n",
       "</tr>\n",
       "</table>"
      ],
      "text/plain": [
       "<class 'statsmodels.iolib.summary.Summary'>\n",
       "\"\"\"\n",
       "                           Logit Regression Results                           \n",
       "==============================================================================\n",
       "Dep. Variable:                 income   No. Observations:                45222\n",
       "Model:                          Logit   Df Residuals:                    45191\n",
       "Method:                           MLE   Df Model:                           30\n",
       "Date:                Wed, 24 Jul 2019   Pseudo R-squ.:                  0.4006\n",
       "Time:                        11:59:09   Log-Likelihood:                -15177.\n",
       "converged:                       True   LL-Null:                       -25322.\n",
       "                                        LLR p-value:                     0.000\n",
       "===================================================================================================\n",
       "                                      coef    std err          z      P>|z|      [0.025      0.975]\n",
       "---------------------------------------------------------------------------------------------------\n",
       "Intercept                          -4.4898      0.250    -17.938      0.000      -4.980      -3.999\n",
       "age                                 0.0235      0.001     17.632      0.000       0.021       0.026\n",
       "gender                             -0.7860      0.064    -12.310      0.000      -0.911      -0.661\n",
       "capital_gain                        0.0003   8.55e-06     37.256      0.000       0.000       0.000\n",
       "capital_loss                        0.0007   3.05e-05     21.792      0.000       0.001       0.001\n",
       "hours_per_week                      0.0298      0.001     22.797      0.000       0.027       0.032\n",
       "workclass_recod_Private            -0.4718      0.075     -6.305      0.000      -0.618      -0.325\n",
       "workclass_recod_self_employed      -0.7977      0.082     -9.752      0.000      -0.958      -0.637\n",
       "workclass_recod_state_level_gov    -0.4970      0.083     -5.956      0.000      -0.660      -0.333\n",
       "workclass_recod_unemployed         -1.4025      0.791     -1.774      0.076      -2.953       0.147\n",
       "educ_recod_elementary_school       -1.9204      0.204     -9.414      0.000      -2.320      -1.521\n",
       "educ_recod_high_school             -0.5906      0.037    -16.122      0.000      -0.662      -0.519\n",
       "educ_recod_preschool               -6.5207      4.098     -1.591      0.112     -14.552       1.510\n",
       "educ_recod_university               0.9063      0.038     23.727      0.000       0.831       0.981\n",
       "civstatus_divorced                  0.5080      0.072      7.060      0.000       0.367       0.649\n",
       "civstatus_married                   1.2879      0.136      9.491      0.000       1.022       1.554\n",
       "civstatus_separated                 0.4683      0.134      3.490      0.000       0.205       0.731\n",
       "civstatus_widowed                   0.5918      0.132      4.499      0.000       0.334       0.850\n",
       "collars_other                      -0.7389      0.086     -8.551      0.000      -0.908      -0.570\n",
       "collars_white_collar                0.6704      0.035     19.105      0.000       0.602       0.739\n",
       "relationship_Not_in_family         -0.9552      0.133     -7.190      0.000      -1.216      -0.695\n",
       "relationship_Other_relative        -1.4567      0.186     -7.831      0.000      -1.821      -1.092\n",
       "relationship_Own_child             -1.9930      0.166    -12.033      0.000      -2.318      -1.668\n",
       "relationship_Unmarried             -1.1960      0.149     -8.006      0.000      -1.489      -0.903\n",
       "relationship_Wife                   1.0536      0.084     12.584      0.000       0.890       1.218\n",
       "race_Asian_Pac_Islander             0.8822      0.224      3.937      0.000       0.443       1.321\n",
       "race_Black                          0.3725      0.189      1.968      0.049       0.002       0.744\n",
       "race_Other                          0.2758      0.270      1.021      0.307      -0.254       0.805\n",
       "race_White                          0.6021      0.180      3.336      0.001       0.248       0.956\n",
       "region_Asia                        -0.4457      0.150     -2.981      0.003      -0.739      -0.153\n",
       "region_Europa                       0.2009      0.105      1.918      0.055      -0.004       0.406\n",
       "===================================================================================================\n",
       "\"\"\""
      ]
     },
     "execution_count": 29,
     "metadata": {},
     "output_type": "execute_result"
    }
   ],
   "source": [
    "modelo.summary()"
   ]
  },
  {
   "cell_type": "markdown",
   "metadata": {},
   "source": [
    "###### se realiza un modelo mantenientos las variables mas significativas a un p de 0.05"
   ]
  },
  {
   "cell_type": "code",
   "execution_count": 30,
   "metadata": {},
   "outputs": [
    {
     "name": "stdout",
     "output_type": "stream",
     "text": [
      "Optimization terminated successfully.\n",
      "         Current function value: 0.335981\n",
      "         Iterations 9\n"
     ]
    },
    {
     "data": {
      "text/html": [
       "<table class=\"simpletable\">\n",
       "<caption>Logit Regression Results</caption>\n",
       "<tr>\n",
       "  <th>Dep. Variable:</th>      <td>income</td>      <th>  No. Observations:  </th>  <td> 45222</td> \n",
       "</tr>\n",
       "<tr>\n",
       "  <th>Model:</th>               <td>Logit</td>      <th>  Df Residuals:      </th>  <td> 45195</td> \n",
       "</tr>\n",
       "<tr>\n",
       "  <th>Method:</th>               <td>MLE</td>       <th>  Df Model:          </th>  <td>    26</td> \n",
       "</tr>\n",
       "<tr>\n",
       "  <th>Date:</th>          <td>Wed, 24 Jul 2019</td> <th>  Pseudo R-squ.:     </th>  <td>0.4000</td> \n",
       "</tr>\n",
       "<tr>\n",
       "  <th>Time:</th>              <td>11:59:10</td>     <th>  Log-Likelihood:    </th> <td> -15194.</td>\n",
       "</tr>\n",
       "<tr>\n",
       "  <th>converged:</th>           <td>True</td>       <th>  LL-Null:           </th> <td> -25322.</td>\n",
       "</tr>\n",
       "<tr>\n",
       "  <th> </th>                      <td> </td>        <th>  LLR p-value:       </th>  <td> 0.000</td> \n",
       "</tr>\n",
       "</table>\n",
       "<table class=\"simpletable\">\n",
       "<tr>\n",
       "                 <td></td>                    <th>coef</th>     <th>std err</th>      <th>z</th>      <th>P>|z|</th>  <th>[0.025</th>    <th>0.975]</th>  \n",
       "</tr>\n",
       "<tr>\n",
       "  <th>Intercept</th>                       <td>   -4.3881</td> <td>    0.220</td> <td>  -19.940</td> <td> 0.000</td> <td>   -4.819</td> <td>   -3.957</td>\n",
       "</tr>\n",
       "<tr>\n",
       "  <th>age</th>                             <td>    0.0233</td> <td>    0.001</td> <td>   17.535</td> <td> 0.000</td> <td>    0.021</td> <td>    0.026</td>\n",
       "</tr>\n",
       "<tr>\n",
       "  <th>gender</th>                          <td>   -0.7833</td> <td>    0.064</td> <td>  -12.271</td> <td> 0.000</td> <td>   -0.908</td> <td>   -0.658</td>\n",
       "</tr>\n",
       "<tr>\n",
       "  <th>capital_gain</th>                    <td>    0.0003</td> <td> 8.54e-06</td> <td>   37.249</td> <td> 0.000</td> <td>    0.000</td> <td>    0.000</td>\n",
       "</tr>\n",
       "<tr>\n",
       "  <th>capital_loss</th>                    <td>    0.0007</td> <td> 3.04e-05</td> <td>   21.796</td> <td> 0.000</td> <td>    0.001</td> <td>    0.001</td>\n",
       "</tr>\n",
       "<tr>\n",
       "  <th>hours_per_week</th>                  <td>    0.0298</td> <td>    0.001</td> <td>   22.827</td> <td> 0.000</td> <td>    0.027</td> <td>    0.032</td>\n",
       "</tr>\n",
       "<tr>\n",
       "  <th>workclass_recod_Private</th>         <td>   -0.4557</td> <td>    0.074</td> <td>   -6.134</td> <td> 0.000</td> <td>   -0.601</td> <td>   -0.310</td>\n",
       "</tr>\n",
       "<tr>\n",
       "  <th>workclass_recod_self_employed</th>   <td>   -0.7799</td> <td>    0.081</td> <td>   -9.595</td> <td> 0.000</td> <td>   -0.939</td> <td>   -0.621</td>\n",
       "</tr>\n",
       "<tr>\n",
       "  <th>workclass_recod_state_level_gov</th> <td>   -0.4813</td> <td>    0.083</td> <td>   -5.801</td> <td> 0.000</td> <td>   -0.644</td> <td>   -0.319</td>\n",
       "</tr>\n",
       "<tr>\n",
       "  <th>educ_recod_elementary_school</th>    <td>   -1.8911</td> <td>    0.204</td> <td>   -9.292</td> <td> 0.000</td> <td>   -2.290</td> <td>   -1.492</td>\n",
       "</tr>\n",
       "<tr>\n",
       "  <th>educ_recod_high_school</th>          <td>   -0.5825</td> <td>    0.037</td> <td>  -15.924</td> <td> 0.000</td> <td>   -0.654</td> <td>   -0.511</td>\n",
       "</tr>\n",
       "<tr>\n",
       "  <th>educ_recod_university</th>           <td>    0.9142</td> <td>    0.038</td> <td>   23.954</td> <td> 0.000</td> <td>    0.839</td> <td>    0.989</td>\n",
       "</tr>\n",
       "<tr>\n",
       "  <th>civstatus_divorced</th>              <td>    0.5104</td> <td>    0.072</td> <td>    7.097</td> <td> 0.000</td> <td>    0.369</td> <td>    0.651</td>\n",
       "</tr>\n",
       "<tr>\n",
       "  <th>civstatus_married</th>               <td>    1.2835</td> <td>    0.135</td> <td>    9.485</td> <td> 0.000</td> <td>    1.018</td> <td>    1.549</td>\n",
       "</tr>\n",
       "<tr>\n",
       "  <th>civstatus_separated</th>             <td>    0.4580</td> <td>    0.135</td> <td>    3.403</td> <td> 0.001</td> <td>    0.194</td> <td>    0.722</td>\n",
       "</tr>\n",
       "<tr>\n",
       "  <th>civstatus_widowed</th>               <td>    0.5937</td> <td>    0.131</td> <td>    4.517</td> <td> 0.000</td> <td>    0.336</td> <td>    0.851</td>\n",
       "</tr>\n",
       "<tr>\n",
       "  <th>collars_other</th>                   <td>   -0.7407</td> <td>    0.086</td> <td>   -8.581</td> <td> 0.000</td> <td>   -0.910</td> <td>   -0.571</td>\n",
       "</tr>\n",
       "<tr>\n",
       "  <th>collars_white_collar</th>            <td>    0.6751</td> <td>    0.035</td> <td>   19.260</td> <td> 0.000</td> <td>    0.606</td> <td>    0.744</td>\n",
       "</tr>\n",
       "<tr>\n",
       "  <th>relationship_Not_in_family</th>      <td>   -0.9620</td> <td>    0.132</td> <td>   -7.263</td> <td> 0.000</td> <td>   -1.222</td> <td>   -0.702</td>\n",
       "</tr>\n",
       "<tr>\n",
       "  <th>relationship_Other_relative</th>     <td>   -1.4626</td> <td>    0.186</td> <td>   -7.871</td> <td> 0.000</td> <td>   -1.827</td> <td>   -1.098</td>\n",
       "</tr>\n",
       "<tr>\n",
       "  <th>relationship_Own_child</th>          <td>   -2.0022</td> <td>    0.165</td> <td>  -12.123</td> <td> 0.000</td> <td>   -2.326</td> <td>   -1.678</td>\n",
       "</tr>\n",
       "<tr>\n",
       "  <th>relationship_Unmarried</th>          <td>   -1.2011</td> <td>    0.149</td> <td>   -8.062</td> <td> 0.000</td> <td>   -1.493</td> <td>   -0.909</td>\n",
       "</tr>\n",
       "<tr>\n",
       "  <th>relationship_Wife</th>               <td>    1.0477</td> <td>    0.084</td> <td>   12.520</td> <td> 0.000</td> <td>    0.884</td> <td>    1.212</td>\n",
       "</tr>\n",
       "<tr>\n",
       "  <th>race_Asian_Pac_Islander</th>         <td>    0.7623</td> <td>    0.186</td> <td>    4.090</td> <td> 0.000</td> <td>    0.397</td> <td>    1.128</td>\n",
       "</tr>\n",
       "<tr>\n",
       "  <th>race_Black</th>                      <td>    0.2555</td> <td>    0.147</td> <td>    1.742</td> <td> 0.082</td> <td>   -0.032</td> <td>    0.543</td>\n",
       "</tr>\n",
       "<tr>\n",
       "  <th>race_White</th>                      <td>    0.4900</td> <td>    0.135</td> <td>    3.629</td> <td> 0.000</td> <td>    0.225</td> <td>    0.755</td>\n",
       "</tr>\n",
       "<tr>\n",
       "  <th>region_Asia</th>                     <td>   -0.4560</td> <td>    0.149</td> <td>   -3.052</td> <td> 0.002</td> <td>   -0.749</td> <td>   -0.163</td>\n",
       "</tr>\n",
       "</table>"
      ],
      "text/plain": [
       "<class 'statsmodels.iolib.summary.Summary'>\n",
       "\"\"\"\n",
       "                           Logit Regression Results                           \n",
       "==============================================================================\n",
       "Dep. Variable:                 income   No. Observations:                45222\n",
       "Model:                          Logit   Df Residuals:                    45195\n",
       "Method:                           MLE   Df Model:                           26\n",
       "Date:                Wed, 24 Jul 2019   Pseudo R-squ.:                  0.4000\n",
       "Time:                        11:59:10   Log-Likelihood:                -15194.\n",
       "converged:                       True   LL-Null:                       -25322.\n",
       "                                        LLR p-value:                     0.000\n",
       "===================================================================================================\n",
       "                                      coef    std err          z      P>|z|      [0.025      0.975]\n",
       "---------------------------------------------------------------------------------------------------\n",
       "Intercept                          -4.3881      0.220    -19.940      0.000      -4.819      -3.957\n",
       "age                                 0.0233      0.001     17.535      0.000       0.021       0.026\n",
       "gender                             -0.7833      0.064    -12.271      0.000      -0.908      -0.658\n",
       "capital_gain                        0.0003   8.54e-06     37.249      0.000       0.000       0.000\n",
       "capital_loss                        0.0007   3.04e-05     21.796      0.000       0.001       0.001\n",
       "hours_per_week                      0.0298      0.001     22.827      0.000       0.027       0.032\n",
       "workclass_recod_Private            -0.4557      0.074     -6.134      0.000      -0.601      -0.310\n",
       "workclass_recod_self_employed      -0.7799      0.081     -9.595      0.000      -0.939      -0.621\n",
       "workclass_recod_state_level_gov    -0.4813      0.083     -5.801      0.000      -0.644      -0.319\n",
       "educ_recod_elementary_school       -1.8911      0.204     -9.292      0.000      -2.290      -1.492\n",
       "educ_recod_high_school             -0.5825      0.037    -15.924      0.000      -0.654      -0.511\n",
       "educ_recod_university               0.9142      0.038     23.954      0.000       0.839       0.989\n",
       "civstatus_divorced                  0.5104      0.072      7.097      0.000       0.369       0.651\n",
       "civstatus_married                   1.2835      0.135      9.485      0.000       1.018       1.549\n",
       "civstatus_separated                 0.4580      0.135      3.403      0.001       0.194       0.722\n",
       "civstatus_widowed                   0.5937      0.131      4.517      0.000       0.336       0.851\n",
       "collars_other                      -0.7407      0.086     -8.581      0.000      -0.910      -0.571\n",
       "collars_white_collar                0.6751      0.035     19.260      0.000       0.606       0.744\n",
       "relationship_Not_in_family         -0.9620      0.132     -7.263      0.000      -1.222      -0.702\n",
       "relationship_Other_relative        -1.4626      0.186     -7.871      0.000      -1.827      -1.098\n",
       "relationship_Own_child             -2.0022      0.165    -12.123      0.000      -2.326      -1.678\n",
       "relationship_Unmarried             -1.2011      0.149     -8.062      0.000      -1.493      -0.909\n",
       "relationship_Wife                   1.0477      0.084     12.520      0.000       0.884       1.212\n",
       "race_Asian_Pac_Islander             0.7623      0.186      4.090      0.000       0.397       1.128\n",
       "race_Black                          0.2555      0.147      1.742      0.082      -0.032       0.543\n",
       "race_White                          0.4900      0.135      3.629      0.000       0.225       0.755\n",
       "region_Asia                        -0.4560      0.149     -3.052      0.002      -0.749      -0.163\n",
       "===================================================================================================\n",
       "\"\"\""
      ]
     },
     "execution_count": 30,
     "metadata": {},
     "output_type": "execute_result"
    }
   ],
   "source": [
    "df = df.drop(columns=['workclass_recod_unemployed','educ_recod_preschool','race_Other','region_Europa'],axis=1)\n",
    "lista = list(df.columns)\n",
    "lista.remove('income')\n",
    "modelo_str = ' + '.join(lista)\n",
    "modelo_str = 'income ~ '+modelo_str\n",
    "modelo = smf.logit(formula= modelo_str,data=df).fit()\n",
    "modelo.summary()"
   ]
  },
  {
   "cell_type": "code",
   "execution_count": 31,
   "metadata": {},
   "outputs": [
    {
     "name": "stdout",
     "output_type": "stream",
     "text": [
      "Optimization terminated successfully.\n",
      "         Current function value: 0.336015\n",
      "         Iterations 9\n"
     ]
    },
    {
     "data": {
      "text/html": [
       "<table class=\"simpletable\">\n",
       "<caption>Logit Regression Results</caption>\n",
       "<tr>\n",
       "  <th>Dep. Variable:</th>      <td>income</td>      <th>  No. Observations:  </th>  <td> 45222</td> \n",
       "</tr>\n",
       "<tr>\n",
       "  <th>Model:</th>               <td>Logit</td>      <th>  Df Residuals:      </th>  <td> 45196</td> \n",
       "</tr>\n",
       "<tr>\n",
       "  <th>Method:</th>               <td>MLE</td>       <th>  Df Model:          </th>  <td>    25</td> \n",
       "</tr>\n",
       "<tr>\n",
       "  <th>Date:</th>          <td>Wed, 24 Jul 2019</td> <th>  Pseudo R-squ.:     </th>  <td>0.3999</td> \n",
       "</tr>\n",
       "<tr>\n",
       "  <th>Time:</th>              <td>11:59:10</td>     <th>  Log-Likelihood:    </th> <td> -15195.</td>\n",
       "</tr>\n",
       "<tr>\n",
       "  <th>converged:</th>           <td>True</td>       <th>  LL-Null:           </th> <td> -25322.</td>\n",
       "</tr>\n",
       "<tr>\n",
       "  <th> </th>                      <td> </td>        <th>  LLR p-value:       </th>  <td> 0.000</td> \n",
       "</tr>\n",
       "</table>\n",
       "<table class=\"simpletable\">\n",
       "<tr>\n",
       "                 <td></td>                    <th>coef</th>     <th>std err</th>      <th>z</th>      <th>P>|z|</th>  <th>[0.025</th>    <th>0.975]</th>  \n",
       "</tr>\n",
       "<tr>\n",
       "  <th>Intercept</th>                       <td>   -4.1739</td> <td>    0.182</td> <td>  -22.967</td> <td> 0.000</td> <td>   -4.530</td> <td>   -3.818</td>\n",
       "</tr>\n",
       "<tr>\n",
       "  <th>age</th>                             <td>    0.0234</td> <td>    0.001</td> <td>   17.610</td> <td> 0.000</td> <td>    0.021</td> <td>    0.026</td>\n",
       "</tr>\n",
       "<tr>\n",
       "  <th>gender</th>                          <td>   -0.7822</td> <td>    0.064</td> <td>  -12.254</td> <td> 0.000</td> <td>   -0.907</td> <td>   -0.657</td>\n",
       "</tr>\n",
       "<tr>\n",
       "  <th>capital_gain</th>                    <td>    0.0003</td> <td> 8.54e-06</td> <td>   37.240</td> <td> 0.000</td> <td>    0.000</td> <td>    0.000</td>\n",
       "</tr>\n",
       "<tr>\n",
       "  <th>capital_loss</th>                    <td>    0.0007</td> <td> 3.04e-05</td> <td>   21.797</td> <td> 0.000</td> <td>    0.001</td> <td>    0.001</td>\n",
       "</tr>\n",
       "<tr>\n",
       "  <th>hours_per_week</th>                  <td>    0.0298</td> <td>    0.001</td> <td>   22.828</td> <td> 0.000</td> <td>    0.027</td> <td>    0.032</td>\n",
       "</tr>\n",
       "<tr>\n",
       "  <th>workclass_recod_Private</th>         <td>   -0.4568</td> <td>    0.074</td> <td>   -6.150</td> <td> 0.000</td> <td>   -0.602</td> <td>   -0.311</td>\n",
       "</tr>\n",
       "<tr>\n",
       "  <th>workclass_recod_self_employed</th>   <td>   -0.7822</td> <td>    0.081</td> <td>   -9.625</td> <td> 0.000</td> <td>   -0.941</td> <td>   -0.623</td>\n",
       "</tr>\n",
       "<tr>\n",
       "  <th>workclass_recod_state_level_gov</th> <td>   -0.4824</td> <td>    0.083</td> <td>   -5.815</td> <td> 0.000</td> <td>   -0.645</td> <td>   -0.320</td>\n",
       "</tr>\n",
       "<tr>\n",
       "  <th>educ_recod_elementary_school</th>    <td>   -1.8976</td> <td>    0.203</td> <td>   -9.327</td> <td> 0.000</td> <td>   -2.296</td> <td>   -1.499</td>\n",
       "</tr>\n",
       "<tr>\n",
       "  <th>educ_recod_high_school</th>          <td>   -0.5820</td> <td>    0.037</td> <td>  -15.912</td> <td> 0.000</td> <td>   -0.654</td> <td>   -0.510</td>\n",
       "</tr>\n",
       "<tr>\n",
       "  <th>educ_recod_university</th>           <td>    0.9150</td> <td>    0.038</td> <td>   23.977</td> <td> 0.000</td> <td>    0.840</td> <td>    0.990</td>\n",
       "</tr>\n",
       "<tr>\n",
       "  <th>civstatus_divorced</th>              <td>    0.5088</td> <td>    0.072</td> <td>    7.075</td> <td> 0.000</td> <td>    0.368</td> <td>    0.650</td>\n",
       "</tr>\n",
       "<tr>\n",
       "  <th>civstatus_married</th>               <td>    1.2778</td> <td>    0.135</td> <td>    9.444</td> <td> 0.000</td> <td>    1.013</td> <td>    1.543</td>\n",
       "</tr>\n",
       "<tr>\n",
       "  <th>civstatus_separated</th>             <td>    0.4609</td> <td>    0.135</td> <td>    3.426</td> <td> 0.001</td> <td>    0.197</td> <td>    0.725</td>\n",
       "</tr>\n",
       "<tr>\n",
       "  <th>civstatus_widowed</th>               <td>    0.5906</td> <td>    0.131</td> <td>    4.494</td> <td> 0.000</td> <td>    0.333</td> <td>    0.848</td>\n",
       "</tr>\n",
       "<tr>\n",
       "  <th>collars_other</th>                   <td>   -0.7392</td> <td>    0.086</td> <td>   -8.565</td> <td> 0.000</td> <td>   -0.908</td> <td>   -0.570</td>\n",
       "</tr>\n",
       "<tr>\n",
       "  <th>collars_white_collar</th>            <td>    0.6746</td> <td>    0.035</td> <td>   19.249</td> <td> 0.000</td> <td>    0.606</td> <td>    0.743</td>\n",
       "</tr>\n",
       "<tr>\n",
       "  <th>relationship_Not_in_family</th>      <td>   -0.9667</td> <td>    0.132</td> <td>   -7.300</td> <td> 0.000</td> <td>   -1.226</td> <td>   -0.707</td>\n",
       "</tr>\n",
       "<tr>\n",
       "  <th>relationship_Other_relative</th>     <td>   -1.4656</td> <td>    0.186</td> <td>   -7.884</td> <td> 0.000</td> <td>   -1.830</td> <td>   -1.101</td>\n",
       "</tr>\n",
       "<tr>\n",
       "  <th>relationship_Own_child</th>          <td>   -2.0055</td> <td>    0.165</td> <td>  -12.144</td> <td> 0.000</td> <td>   -2.329</td> <td>   -1.682</td>\n",
       "</tr>\n",
       "<tr>\n",
       "  <th>relationship_Unmarried</th>          <td>   -1.2038</td> <td>    0.149</td> <td>   -8.083</td> <td> 0.000</td> <td>   -1.496</td> <td>   -0.912</td>\n",
       "</tr>\n",
       "<tr>\n",
       "  <th>relationship_Wife</th>               <td>    1.0476</td> <td>    0.084</td> <td>   12.518</td> <td> 0.000</td> <td>    0.884</td> <td>    1.212</td>\n",
       "</tr>\n",
       "<tr>\n",
       "  <th>race_Asian_Pac_Islander</th>         <td>    0.5589</td> <td>    0.144</td> <td>    3.878</td> <td> 0.000</td> <td>    0.276</td> <td>    0.841</td>\n",
       "</tr>\n",
       "<tr>\n",
       "  <th>race_White</th>                      <td>    0.2789</td> <td>    0.057</td> <td>    4.882</td> <td> 0.000</td> <td>    0.167</td> <td>    0.391</td>\n",
       "</tr>\n",
       "<tr>\n",
       "  <th>region_Asia</th>                     <td>   -0.4670</td> <td>    0.149</td> <td>   -3.131</td> <td> 0.002</td> <td>   -0.759</td> <td>   -0.175</td>\n",
       "</tr>\n",
       "</table>"
      ],
      "text/plain": [
       "<class 'statsmodels.iolib.summary.Summary'>\n",
       "\"\"\"\n",
       "                           Logit Regression Results                           \n",
       "==============================================================================\n",
       "Dep. Variable:                 income   No. Observations:                45222\n",
       "Model:                          Logit   Df Residuals:                    45196\n",
       "Method:                           MLE   Df Model:                           25\n",
       "Date:                Wed, 24 Jul 2019   Pseudo R-squ.:                  0.3999\n",
       "Time:                        11:59:10   Log-Likelihood:                -15195.\n",
       "converged:                       True   LL-Null:                       -25322.\n",
       "                                        LLR p-value:                     0.000\n",
       "===================================================================================================\n",
       "                                      coef    std err          z      P>|z|      [0.025      0.975]\n",
       "---------------------------------------------------------------------------------------------------\n",
       "Intercept                          -4.1739      0.182    -22.967      0.000      -4.530      -3.818\n",
       "age                                 0.0234      0.001     17.610      0.000       0.021       0.026\n",
       "gender                             -0.7822      0.064    -12.254      0.000      -0.907      -0.657\n",
       "capital_gain                        0.0003   8.54e-06     37.240      0.000       0.000       0.000\n",
       "capital_loss                        0.0007   3.04e-05     21.797      0.000       0.001       0.001\n",
       "hours_per_week                      0.0298      0.001     22.828      0.000       0.027       0.032\n",
       "workclass_recod_Private            -0.4568      0.074     -6.150      0.000      -0.602      -0.311\n",
       "workclass_recod_self_employed      -0.7822      0.081     -9.625      0.000      -0.941      -0.623\n",
       "workclass_recod_state_level_gov    -0.4824      0.083     -5.815      0.000      -0.645      -0.320\n",
       "educ_recod_elementary_school       -1.8976      0.203     -9.327      0.000      -2.296      -1.499\n",
       "educ_recod_high_school             -0.5820      0.037    -15.912      0.000      -0.654      -0.510\n",
       "educ_recod_university               0.9150      0.038     23.977      0.000       0.840       0.990\n",
       "civstatus_divorced                  0.5088      0.072      7.075      0.000       0.368       0.650\n",
       "civstatus_married                   1.2778      0.135      9.444      0.000       1.013       1.543\n",
       "civstatus_separated                 0.4609      0.135      3.426      0.001       0.197       0.725\n",
       "civstatus_widowed                   0.5906      0.131      4.494      0.000       0.333       0.848\n",
       "collars_other                      -0.7392      0.086     -8.565      0.000      -0.908      -0.570\n",
       "collars_white_collar                0.6746      0.035     19.249      0.000       0.606       0.743\n",
       "relationship_Not_in_family         -0.9667      0.132     -7.300      0.000      -1.226      -0.707\n",
       "relationship_Other_relative        -1.4656      0.186     -7.884      0.000      -1.830      -1.101\n",
       "relationship_Own_child             -2.0055      0.165    -12.144      0.000      -2.329      -1.682\n",
       "relationship_Unmarried             -1.2038      0.149     -8.083      0.000      -1.496      -0.912\n",
       "relationship_Wife                   1.0476      0.084     12.518      0.000       0.884       1.212\n",
       "race_Asian_Pac_Islander             0.5589      0.144      3.878      0.000       0.276       0.841\n",
       "race_White                          0.2789      0.057      4.882      0.000       0.167       0.391\n",
       "region_Asia                        -0.4670      0.149     -3.131      0.002      -0.759      -0.175\n",
       "===================================================================================================\n",
       "\"\"\""
      ]
     },
     "execution_count": 31,
     "metadata": {},
     "output_type": "execute_result"
    }
   ],
   "source": [
    "df = df.drop(columns=['race_Black'],axis=1)\n",
    "lista = list(df.columns)\n",
    "lista.remove('income')\n",
    "modelo_str = ' + '.join(lista)\n",
    "modelo_str = 'income ~ '+modelo_str\n",
    "modelo = smf.logit(formula= modelo_str,data=df).fit()\n",
    "modelo.summary()"
   ]
  },
  {
   "cell_type": "markdown",
   "metadata": {},
   "source": [
    "##### * Este es el modelo que se mantiene"
   ]
  },
  {
   "cell_type": "markdown",
   "metadata": {},
   "source": [
    "# Modelo Predictivo con StandarScaler"
   ]
  },
  {
   "cell_type": "code",
   "execution_count": 32,
   "metadata": {},
   "outputs": [],
   "source": [
    "x_ = df.loc[:,lista]\n",
    "y_ = df['income']\n",
    "x_train,x_test,y_train,y_test = train_test_split(StandardScaler().fit_transform(x_),y_,test_size=.33,random_state=123)\n",
    "\n"
   ]
  },
  {
   "cell_type": "code",
   "execution_count": 33,
   "metadata": {},
   "outputs": [],
   "source": [
    "modelo = LogisticRegression().fit(x_train,y_train)"
   ]
  },
  {
   "cell_type": "code",
   "execution_count": 34,
   "metadata": {},
   "outputs": [
    {
     "name": "stdout",
     "output_type": "stream",
     "text": [
      "              precision    recall  f1-score   support\n",
      "\n",
      "           0       0.87      0.92      0.90     11254\n",
      "           1       0.71      0.58      0.64      3670\n",
      "\n",
      "    accuracy                           0.84     14924\n",
      "   macro avg       0.79      0.75      0.77     14924\n",
      "weighted avg       0.83      0.84      0.83     14924\n",
      "\n"
     ]
    }
   ],
   "source": [
    "yhat =modelo.predict(x_test)\n",
    "yhat_prob =modelo.predict_proba(x_test)[:,1]\n",
    "print(classification_report(y_test,yhat))"
   ]
  },
  {
   "cell_type": "code",
   "execution_count": 35,
   "metadata": {},
   "outputs": [
    {
     "data": {
      "text/plain": [
       "[<matplotlib.lines.Line2D at 0x1c2716a588>]"
      ]
     },
     "execution_count": 35,
     "metadata": {},
     "output_type": "execute_result"
    },
    {
     "data": {
      "image/png": "[encoded data removed]",
      "text/plain": [
       "<Figure size 432x288 with 1 Axes>"
      ]
     },
     "metadata": {
      "needs_background": "light"
     },
     "output_type": "display_data"
    }
   ],
   "source": [
    "false_positive, true_positive, thres = roc_curve(y_test,yhat_prob)\n",
    "plt.plot(false_positive,true_positive)\n",
    "plt.ylabel('Verdadero Positivo')\n",
    "plt.xlabel('Falso Positivo')\n",
    "plt.plot([0,1],ls='--')"
   ]
  },
  {
   "cell_type": "code",
   "execution_count": 36,
   "metadata": {},
   "outputs": [
    {
     "data": {
      "text/plain": [
       "0.8953841782685563"
      ]
     },
     "execution_count": 36,
     "metadata": {},
     "output_type": "execute_result"
    }
   ],
   "source": [
    "roc_auc_score(y_test,yhat_prob)"
   ]
  },
  {
   "cell_type": "code",
   "execution_count": 37,
   "metadata": {},
   "outputs": [
    {
     "name": "stdout",
     "output_type": "stream",
     "text": [
      "[[10399   855]\n",
      " [ 1536  2134]]\n"
     ]
    }
   ],
   "source": [
    "print(confusion_matrix(y_test,yhat))"
   ]
  },
  {
   "cell_type": "markdown",
   "metadata": {},
   "source": [
    "# Modelo predictivo sin standar scaler"
   ]
  },
  {
   "cell_type": "code",
   "execution_count": 38,
   "metadata": {},
   "outputs": [
    {
     "name": "stdout",
     "output_type": "stream",
     "text": [
      "              precision    recall  f1-score   support\n",
      "\n",
      "           0       0.87      0.93      0.90     11254\n",
      "           1       0.72      0.58      0.64      3670\n",
      "\n",
      "    accuracy                           0.84     14924\n",
      "   macro avg       0.80      0.75      0.77     14924\n",
      "weighted avg       0.83      0.84      0.84     14924\n",
      "\n"
     ]
    }
   ],
   "source": [
    "x_ = df.loc[:,lista]\n",
    "y_ = df['income']\n",
    "x_train,x_test,y_train,y_test = train_test_split(x_,y_,test_size=.33,random_state=123)\n",
    "modelo = LogisticRegression().fit(x_train,y_train)\n",
    "yhat =modelo.predict(x_test)\n",
    "yhat_prob =modelo.predict_proba(x_test)[:,1]\n",
    "print(classification_report(y_test,yhat))"
   ]
  },
  {
   "cell_type": "code",
   "execution_count": 39,
   "metadata": {},
   "outputs": [
    {
     "data": {
      "text/plain": [
       "[<matplotlib.lines.Line2D at 0x1c293f1630>]"
      ]
     },
     "execution_count": 39,
     "metadata": {},
     "output_type": "execute_result"
    },
    {
     "data": {
      "image/png": "[encoded data removed]",
      "text/plain": [
       "<Figure size 432x288 with 1 Axes>"
      ]
     },
     "metadata": {
      "needs_background": "light"
     },
     "output_type": "display_data"
    }
   ],
   "source": [
    "false_positive, true_positive, thres = roc_curve(y_test,yhat_prob)\n",
    "plt.plot(false_positive,true_positive)\n",
    "plt.ylabel('Verdadero Positivo')\n",
    "plt.xlabel('Falso Positivo')\n",
    "plt.plot([0,1],ls='--')"
   ]
  },
  {
   "cell_type": "markdown",
   "metadata": {},
   "source": [
    "# Modelo saturado"
   ]
  },
  {
   "cell_type": "code",
   "execution_count": 40,
   "metadata": {},
   "outputs": [
    {
     "name": "stdout",
     "output_type": "stream",
     "text": [
      "              precision    recall  f1-score   support\n",
      "\n",
      "           0       0.87      0.92      0.90     11254\n",
      "           1       0.71      0.58      0.64      3670\n",
      "\n",
      "    accuracy                           0.84     14924\n",
      "   macro avg       0.79      0.75      0.77     14924\n",
      "weighted avg       0.83      0.84      0.83     14924\n",
      "\n"
     ]
    }
   ],
   "source": [
    "lista = list(df_saturado.columns)\n",
    "lista.remove('income')\n",
    "x_ = df_saturado.loc[:,lista]\n",
    "y_ = df_saturado['income']\n",
    "x_train,x_test,y_train,y_test = train_test_split(x_,y_,test_size=.33,random_state=123)\n",
    "modelo = LogisticRegression().fit(x_train,y_train)\n",
    "yhat =modelo.predict(x_test)\n",
    "yhat_prob =modelo.predict_proba(x_test)[:,1]\n",
    "print(classification_report(y_test,yhat))"
   ]
  },
  {
   "cell_type": "code",
   "execution_count": 41,
   "metadata": {},
   "outputs": [
    {
     "data": {
      "text/plain": [
       "[<matplotlib.lines.Line2D at 0x1c27da4198>]"
      ]
     },
     "execution_count": 41,
     "metadata": {},
     "output_type": "execute_result"
    },
    {
     "data": {
      "image/png": "[encoded data removed]",
      "text/plain": [
       "<Figure size 432x288 with 1 Axes>"
      ]
     },
     "metadata": {
      "needs_background": "light"
     },
     "output_type": "display_data"
    }
   ],
   "source": [
    "false_positive, true_positive, thres = roc_curve(y_test,yhat_prob)\n",
    "plt.plot(false_positive,true_positive)\n",
    "plt.ylabel('Verdadero Positivo')\n",
    "plt.xlabel('Falso Positivo')\n",
    "plt.plot([0,1],ls='--')"
   ]
  },
  {
   "cell_type": "markdown",
   "metadata": {},
   "source": [
    "# Conclusiones"
   ]
  },
  {
   "cell_type": "markdown",
   "metadata": {},
   "source": [
    "Se observa que el rendimiento del modelo predictivo es alto, esto es visible en la matriz de confusion, a la vez en modelo depurado es simil al modelo sin depurar en rendimiento, lo que significa que las columnas escogidas para el modelo depurado son significativas, a su vez la curva roc tambien defiende la valides del modelo, por lo que se concluye que el modelo es correcto para predecir bajo condiciones similares a las del dataframe"
   ]
  },
  {
   "cell_type": "code",
   "execution_count": null,
   "metadata": {},
   "outputs": [],
   "source": []
  }
 ],
 "metadata": {
  "kernelspec": {
   "display_name": "Python 3",
   "language": "python",
   "name": "python3"
  },
  "language_info": {
   "codemirror_mode": {
    "name": "ipython",
    "version": 3
   },
   "file_extension": ".py",
   "mimetype": "text/x-python",
   "name": "python",
   "nbconvert_exporter": "python",
   "pygments_lexer": "ipython3",
   "version": "3.6.8"
  }
 },
 "nbformat": 4,
 "nbformat_minor": 2
}
